{
 "cells": [
  {
   "cell_type": "code",
   "execution_count": 2,
   "metadata": {},
   "outputs": [],
   "source": [
    "import pandas as pd\n",
    "import plotly.graph_objects as go\n",
    "import plotly.express as px\n",
    "import math\n"
   ]
  },
  {
   "cell_type": "code",
   "execution_count": 4,
   "metadata": {},
   "outputs": [],
   "source": [
    "weather_los_angeles = pd.read_csv('../resources/dataset_weather/weather_los_angeles.csv')"
   ]
  },
  {
   "cell_type": "code",
   "execution_count": 3,
   "metadata": {},
   "outputs": [],
   "source": [
    "def calculate_heat_index(temp, humidity):\n",
    "    # Constants for the formula\n",
    "    c1 = -42.379\n",
    "    c2 = 2.04901523\n",
    "    c3 = 10.14333127\n",
    "    c4 = -0.22475541\n",
    "    c5 = -0.00683783\n",
    "    c6 = -0.05481717\n",
    "    c7 = 0.00122874\n",
    "    c8 = 0.00085282\n",
    "    c9 = -0.00000199\n",
    "\n",
    "    if temp >= 27:\n",
    "        hi = (c1 + (c2 * temp) + (c3 * humidity) + (c4 * temp * humidity) +\n",
    "              (c5 * temp ** 2) + (c6 * humidity ** 2) +\n",
    "              (c7 * temp ** 2 * humidity) + (c8 * temp * humidity ** 2) +\n",
    "              (c9 * temp ** 2 * humidity ** 2))\n",
    "        return hi\n",
    "    else:\n",
    "        return temp\n",
    "\n",
    "def calculate_wind_chill(temp, wind_speed):\n",
    "    if temp <= 10 and wind_speed >= 4.8:\n",
    "        wci = 13.12 + 0.6215 * temp - 11.37 * (wind_speed ** 0.16) + 0.3965 * temp * (wind_speed ** 0.16)\n",
    "        return wci\n",
    "    else:\n",
    "        return temp\n",
    "\n",
    "def calculate_humidex(temp, dew_point):\n",
    "    e = 6.112 * math.exp((17.67 * (dew_point/100)) / ((dew_point/100) + 243.5))\n",
    "    h = temp + 0.5555 * (e - 10.0)\n",
    "    return h\n",
    "\n",
    "def normalize_heat_index(hi):\n",
    "    return (hi - 70) / (130 - 70) * 100\n",
    "\n",
    "def normalize_wind_chill(wci):\n",
    "    return (wci + 50) / (50 + 50) * 100\n",
    "\n",
    "def normalize_humidex(h):\n",
    "    return (h - 20) / (50 - 20) * 100\n",
    "\n",
    "def calculate_cwcs(temp, humidity, wind_speed, dew_point):\n",
    "    # Calculate indices\n",
    "    hi = calculate_heat_index(temp, humidity)\n",
    "    wci = calculate_wind_chill(temp, wind_speed)\n",
    "    humidex = calculate_humidex(temp, dew_point)\n",
    "\n",
    "    # Normalize the indices\n",
    "    normalized_hi = normalize_heat_index(hi)\n",
    "    normalized_wci = normalize_wind_chill(wci)\n",
    "    normalized_humidex = normalize_humidex(humidex)\n",
    "\n",
    "    # Determine weights based on temperature\n",
    "    if temp > 25:\n",
    "        weight_hi = 0.5\n",
    "        weight_wci = 0.1\n",
    "        weight_humidex = 0.4\n",
    "    elif temp < 10:\n",
    "        weight_hi = 0.1\n",
    "        weight_wci = 0.8\n",
    "        weight_humidex = 0.1\n",
    "    else:\n",
    "        weight_hi = 0.33\n",
    "        weight_wci = 0.34\n",
    "        weight_humidex = 0.33\n",
    "\n",
    "    # Calculate CWCS\n",
    "    cwcs = (weight_hi * normalized_hi) + (weight_wci * normalized_wci) + (weight_humidex * normalized_humidex)\n",
    "    return cwcs"
   ]
  },
  {
   "cell_type": "code",
   "execution_count": null,
   "metadata": {},
   "outputs": [],
   "source": [
    "weather_los_angeles['weather_score'] = calculate_cwcs()"
   ]
  }
 ],
 "metadata": {
  "kernelspec": {
   "display_name": "jupyterbook",
   "language": "python",
   "name": "python3"
  },
  "language_info": {
   "codemirror_mode": {
    "name": "ipython",
    "version": 3
   },
   "file_extension": ".py",
   "mimetype": "text/x-python",
   "name": "python",
   "nbconvert_exporter": "python",
   "pygments_lexer": "ipython3",
   "version": "3.10.14"
  }
 },
 "nbformat": 4,
 "nbformat_minor": 2
}
