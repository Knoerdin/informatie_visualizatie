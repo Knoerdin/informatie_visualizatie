{
 "cells": [
  {
   "cell_type": "markdown",
   "metadata": {},
   "source": [
    "### Analyse van weersverschijnselen en verkeersongelukken in de VS"
   ]
  },
  {
   "cell_type": "markdown",
   "metadata": {},
   "source": [
    "### Introductie\n",
    "City planners, civil engineers and car manufacturers have worked tirelessly for decades to make driving a safe, comfortable and accessible option for travel. Safer roads, smarter rules and cutting edge technologies have been implement to reduce the frequency of accidents with motor vehicles, to great success as accidents on the road have dropped tremendously since the 1960s (https://www.iihs.org/topics/fatality-statistics/detail/yearly-snapshot) . Aside from individuals with poor driving skills and faulty vehicles, one of the greatest hindrances in motor safety has been the chaotic essence of mother nature. In the US, forty-two thousand people have died in 2022.\n",
    "\n",
    "Some would argue that weather is primarily responsible for the amount of motor vehicle accidents. Weather phenomena such as hurricanes, heavy rain, icy roads and thick fog are able to severely debilitate a person's driving skills and could pose a threat to their own safety, and that of other drivers around them. Others state that the weather is merely a small issue, and that accidents have many more causes other than weather. They argue that factors such as inexperienced drivers, unmaintained roads or sloppy city planning cause just as much, if not more accidents on the road.\n",
    "\n",
    "We set out to research the correlation between weather and accidents in the US. To achieve this we took a look at two datasets, these being [dataset 1], and [dataset 2]. [dataset 1] is a detailed record of vehicle accidents in the US between 2016 and 2023, having recorded the time, place and severity of accidents, among many other variables. [dataset 2] is a record of weather across the US between the years 2012 and 2017. This dataset has recorded the hourly weather status of many large cities across the United States. With these two datasets we can analyze and compare the link between heavy weather and car accidents across the US."
   ]
  },
  {
   "cell_type": "markdown",
   "metadata": {},
   "source": [
    "### \n",
    "In the following graph you can see that most accidents take place with no relevant infrastructure such as traffic stops or traffic lighs nearby. It is however notable that aside from the no infrastructure, most accidents take place at junctions or traffic_signs. These are also the places that are most susceptible to human error. We can conclude from this graph that the place where the traffic accident takes place is relevant the cause of the accidents."
   ]
  },
  {
   "cell_type": "code",
   "execution_count": null,
   "metadata": {},
   "outputs": [],
   "source": [
    "import plotly.express as px\n",
    "import pandas as pd\n",
    "\n",
    "\n",
    "# Step 1: Read the CSV file into a DataFrame\n",
    "df = pd.read_csv('../resources/us_accidents_filtered_rows.csv')\n",
    "\n",
    "# Step 2: Prepare the Data\n",
    "# Define list of infrastructure types\n",
    "infrastructures = ['Amenity', 'Bump', 'Crossing', 'Give_Way', 'Junction', 'No_Exit', \n",
    "                   'Railway', 'Roundabout', 'Station', 'Stop', 'Traffic_Calming', \n",
    "                   'Traffic_Signal', 'Turning_Loop']\n",
    "\n",
    "# Check if all infrastructure columns are False for each row\n",
    "def all_false(row):\n",
    "    return all(not row[infra] for infra in infrastructures)\n",
    "\n",
    "# Apply the function row-wise to create a boolean mask\n",
    "all_false_mask = df.apply(all_false, axis=1)\n",
    "\n",
    "# Step 3: Count Rows with All False Values\n",
    "# Count rows where all infrastructure columns are False\n",
    "no_infrastructure_count = all_false_mask.sum()\n",
    "\n",
    "# Step 4: Prepare Data for Donut Chart\n",
    "# Count occurrences of True values for each infrastructure type\n",
    "counts = [df[infra].sum() for infra in infrastructures]\n",
    "\n",
    "# If there are rows with all False values, add a category for \"No Infrastructure Near Accidents\"\n",
    "if no_infrastructure_count > 0:\n",
    "    infrastructures.append('No Infrastructure')\n",
    "    counts.append(no_infrastructure_count)\n",
    "\n",
    "# Create lists for labels and values\n",
    "labels = infrastructures\n",
    "values = counts\n",
    "\n",
    "# Calculate total number of accidents\n",
    "total_accidents = sum(values)\n",
    "\n",
    "# Calculate percentages\n",
    "percentages = [count / total_accidents * 100 for count in counts]\n",
    "\n",
    "# Combine labels where percentage is less than 1.0%\n",
    "threshold = 0.8\n",
    "combined_labels = []\n",
    "combined_values = []\n",
    "\n",
    "for label, value, percent in zip(labels, values, percentages):\n",
    "    if percent < threshold:\n",
    "        combined_labels.append('Other')\n",
    "        combined_values.append(value)\n",
    "    else:\n",
    "        combined_labels.append(label)\n",
    "        combined_values.append(value)\n",
    "\n",
    "# Step 5: Create the Donut Chart using Plotly Express\n",
    "# Create the figure\n",
    "fig = px.pie(names=combined_labels, values=combined_values, title='Distribution of Traffic Accidents by Infrastructure Proximity',\n",
    "             hole=0.8,  # Specify the size of the hole in the center (0 for pie chart, 1 for completely hollow donut)\n",
    "             labels={'label': 'percent'},\n",
    "             width=800, height=500)  # Adjust width and height as needed\n",
    "\n",
    "# Place labels outside the pie/donut chart\n",
    "fig.update_traces(textposition='outside', textinfo='label+percent')\n",
    "fig.update_layout(showlegend=False)\n",
    "# Show the plot\n",
    "fig.show()\n",
    "\n"
   ]
  },
  {
   "cell_type": "markdown",
   "metadata": {},
   "source": [
    "### Volgende visualization\n"
   ]
  },
  {
   "cell_type": "code",
   "execution_count": null,
   "metadata": {},
   "outputs": [],
   "source": [
    "### Volgende "
   ]
  }
 ],
 "metadata": {
  "kernelspec": {
   "display_name": "base",
   "language": "python",
   "name": "python3"
  },
  "language_info": {
   "codemirror_mode": {
    "name": "ipython",
    "version": 3
   },
   "file_extension": ".py",
   "mimetype": "text/x-python",
   "name": "python",
   "nbconvert_exporter": "python",
   "pygments_lexer": "ipython3",
   "version": "3.12.3"
  }
 },
 "nbformat": 4,
 "nbformat_minor": 2
}
