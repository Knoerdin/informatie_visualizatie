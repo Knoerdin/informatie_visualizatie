{
 "cells": [
  {
   "cell_type": "code",
   "execution_count": null,
   "metadata": {},
   "outputs": [],
   "source": [
    "import plotly.graph_objects as go\n",
    "\n",
    "import pandas as pd\n",
    "df = pd.read_csv('')\n",
    "\n",
    "df['Start_Time'] = pd.to_datetime(df['Start_Time'])\n",
    "\n",
    "def get_season(date):\n",
    "    year = date.year\n",
    "    seasons = {'spring': (pd.Timestamp(f'{year}-03-21'), pd.Timestamp(f'{year}-06-20')),\n",
    "               'summer': (pd.Timestamp(f'{year}-06-21'), pd.Timestamp(f'{year}-09-22')),\n",
    "               'autumn': (pd.Timestamp(f'{year}-09-23'), pd.Timestamp(f'{year}-12-20')),\n",
    "               'winter': (pd.Timestamp(f'{year}-12-21'), pd.Timestamp(f'{year + 1}-03-20'))}\n",
    "\n",
    "    for season, (start, end) in seasons.items():\n",
    "        if start <= date <= end:\n",
    "            return season\n",
    "    return 'winter'\n",
    "\n",
    "df['season'] = df['Start_Time'].apply(get_season)\n",
    "\n",
    "state_counts = df['State'].value_counts().reset_index()\n",
    "state_counts.columns = ['State', 'Count']\n",
    "\n",
    "fig = go.Figure(data=go.Choropleth(\n",
    "    locations = df['State'], # Spatial coordinates\n",
    "    z = state_counts['Count'] # Data to be color-coded\n",
    "    locationmode = 'USA-states', # set of locations match entries in `locations`\n",
    "    colorscale = 'Reds',\n",
    "    colorbar_title = \"Number of Accidents\",\n",
    "))\n",
    "\n",
    "fig.update_layout(\n",
    "    title_text = 'Amount of accidents by State and Season',\n",
    "    geo_scope='usa', # limite map scope to USA\n",
    ")\n",
    "\n",
    "fig.show()"
   ]
  }
 ],
 "metadata": {
  "language_info": {
   "name": "python"
  }
 },
 "nbformat": 4,
 "nbformat_minor": 2
}
