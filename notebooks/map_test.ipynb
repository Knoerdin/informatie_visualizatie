{
 "cells": [
  {
   "cell_type": "code",
   "execution_count": 7,
   "metadata": {},
   "outputs": [],
   "source": [
    "import plotly.graph_objects as go\n",
    "\n",
    "import pandas as pd\n",
    "df = pd.read_csv('../resources/us_accidents_filtered_rows.csv')\n",
    "\n",
    "df['Start_Time'] = pd.to_datetime(df['Start_Time'])\n",
    "\n",
    "# Function to determine the season\n",
    "def get_season(date):\n",
    "    year = date.year\n",
    "    seasons = {'spring': (pd.Timestamp(f'{year}-03-21'), pd.Timestamp(f'{year}-06-20')),\n",
    "               'summer': (pd.Timestamp(f'{year}-06-21'), pd.Timestamp(f'{year}-09-22')),\n",
    "               'autumn': (pd.Timestamp(f'{year}-09-23'), pd.Timestamp(f'{year}-12-20')),\n",
    "               'winter': (pd.Timestamp(f'{year}-12-21'), pd.Timestamp(f'{year + 1}-03-20'))}\n",
    "\n",
    "    for season, (start, end) in seasons.items():\n",
    "        if start <= date <= end:\n",
    "            return season\n",
    "    return 'winter'  # dates outside the ranges fall in winter (from Dec 21 to Mar 20)\n",
    "\n",
    "# Apply the function to create a new column 'season'\n",
    "df['season'] = df['Start_Time'].apply(get_season)"
   ]
  },
  {
   "cell_type": "code",
   "execution_count": 8,
   "metadata": {},
   "outputs": [
    {
     "data": {
      "application/vnd.plotly.v1+json": {
       "config": {
        "plotlyServerURL": "https://plot.ly"
       },
       "data": [
        {
         "colorbar": {
          "title": {
           "text": "Number of Accidents"
          }
         },
         "colorscale": [
          [
           0,
           "rgb(255,245,240)"
          ],
          [
           0.125,
           "rgb(254,224,210)"
          ],
          [
           0.25,
           "rgb(252,187,161)"
          ],
          [
           0.375,
           "rgb(252,146,114)"
          ],
          [
           0.5,
           "rgb(251,106,74)"
          ],
          [
           0.625,
           "rgb(239,59,44)"
          ],
          [
           0.75,
           "rgb(203,24,29)"
          ],
          [
           0.875,
           "rgb(165,15,21)"
          ],
          [
           1,
           "rgb(103,0,13)"
          ]
         ],
         "locationmode": "USA-states",
         "locations": [
          "CA",
          "TX",
          "FL",
          "OH",
          "PA",
          "NY",
          "IL",
          "MI",
          "GA",
          "WA",
          "MD",
          "NJ",
          "VA",
          "MA",
          "NC",
          "NE",
          "SC",
          "IN",
          "CT",
          "MO",
          "AZ",
          "KY",
          "MN",
          "IA",
          "RI",
          "WV",
          "WI",
          "CO",
          "OR",
          "NV",
          "TN",
          "UT",
          "LA",
          "NH",
          "KS",
          "OK",
          "DC",
          "ID",
          "ME",
          "NM",
          "MS",
          "AL",
          "DE",
          "WY",
          "MT",
          "VT"
         ],
         "type": "choropleth",
         "visible": true,
         "z": [
          5789,
          2886,
          2522,
          1823,
          1419,
          1261,
          956,
          907,
          881,
          623,
          576,
          473,
          452,
          320,
          279,
          213,
          209,
          207,
          192,
          187,
          166,
          133,
          117,
          107,
          82,
          76,
          71,
          70,
          70,
          69,
          65,
          51,
          49,
          48,
          45,
          44,
          36,
          36,
          16,
          15,
          14,
          10,
          10,
          7,
          5,
          5
         ]
        },
        {
         "colorbar": {
          "title": {
           "text": "Number of Accidents"
          }
         },
         "colorscale": [
          [
           0,
           "rgb(255,245,240)"
          ],
          [
           0.125,
           "rgb(254,224,210)"
          ],
          [
           0.25,
           "rgb(252,187,161)"
          ],
          [
           0.375,
           "rgb(252,146,114)"
          ],
          [
           0.5,
           "rgb(251,106,74)"
          ],
          [
           0.625,
           "rgb(239,59,44)"
          ],
          [
           0.75,
           "rgb(203,24,29)"
          ],
          [
           0.875,
           "rgb(165,15,21)"
          ],
          [
           1,
           "rgb(103,0,13)"
          ]
         ],
         "locationmode": "USA-states",
         "locations": [
          "CA",
          "OH",
          "NY",
          "NE",
          "NJ",
          "CT",
          "PA",
          "IA",
          "KY",
          "RI",
          "MA",
          "IN",
          "WV",
          "MD",
          "MO",
          "DE",
          "NH",
          "MI",
          "IL",
          "TX",
          "MN",
          "WI",
          "FL",
          "GA",
          "NV",
          "TN",
          "VA",
          "WA",
          "ME",
          "LA",
          "KS",
          "AR",
          "SC",
          "SD"
         ],
         "type": "choropleth",
         "visible": false,
         "z": [
          41357,
          2605,
          2312,
          1696,
          1494,
          730,
          674,
          365,
          241,
          231,
          224,
          169,
          71,
          69,
          57,
          57,
          38,
          31,
          12,
          10,
          9,
          8,
          8,
          4,
          4,
          3,
          3,
          3,
          3,
          2,
          2,
          2,
          2,
          1
         ]
        },
        {
         "colorbar": {
          "title": {
           "text": "Number of Accidents"
          }
         },
         "colorscale": [
          [
           0,
           "rgb(255,245,240)"
          ],
          [
           0.125,
           "rgb(254,224,210)"
          ],
          [
           0.25,
           "rgb(252,187,161)"
          ],
          [
           0.375,
           "rgb(252,146,114)"
          ],
          [
           0.5,
           "rgb(251,106,74)"
          ],
          [
           0.625,
           "rgb(239,59,44)"
          ],
          [
           0.75,
           "rgb(203,24,29)"
          ],
          [
           0.875,
           "rgb(165,15,21)"
          ],
          [
           1,
           "rgb(103,0,13)"
          ]
         ],
         "locationmode": "USA-states",
         "locations": [
          "CA",
          "TX",
          "FL",
          "PA",
          "NY",
          "IL",
          "MI",
          "GA",
          "WA",
          "OH",
          "MD",
          "NC",
          "NJ",
          "VA",
          "MA",
          "NE",
          "MO",
          "CT",
          "SC",
          "AZ",
          "MN",
          "TN",
          "WI",
          "NV",
          "CO",
          "IN",
          "UT",
          "LA",
          "IA",
          "RI",
          "OR",
          "KY",
          "KS",
          "OK",
          "ID",
          "MS",
          "DC",
          "WV",
          "DE",
          "NH",
          "AL",
          "NM",
          "ME",
          "MT",
          "WY",
          "AR",
          "SD",
          "VT",
          "ND"
         ],
         "type": "choropleth",
         "visible": false,
         "z": [
          45605,
          21631,
          17036,
          8694,
          7916,
          7655,
          6761,
          5866,
          4230,
          3241,
          3015,
          2930,
          2564,
          2298,
          2164,
          1950,
          1685,
          1467,
          1375,
          1218,
          1121,
          848,
          720,
          693,
          622,
          548,
          494,
          472,
          466,
          460,
          375,
          352,
          340,
          229,
          213,
          210,
          201,
          155,
          112,
          93,
          70,
          59,
          47,
          27,
          25,
          12,
          4,
          4,
          2
         ]
        },
        {
         "colorbar": {
          "title": {
           "text": "Number of Accidents"
          }
         },
         "colorscale": [
          [
           0,
           "rgb(255,245,240)"
          ],
          [
           0.125,
           "rgb(254,224,210)"
          ],
          [
           0.25,
           "rgb(252,187,161)"
          ],
          [
           0.375,
           "rgb(252,146,114)"
          ],
          [
           0.5,
           "rgb(251,106,74)"
          ],
          [
           0.625,
           "rgb(239,59,44)"
          ],
          [
           0.75,
           "rgb(203,24,29)"
          ],
          [
           0.875,
           "rgb(165,15,21)"
          ],
          [
           1,
           "rgb(103,0,13)"
          ]
         ],
         "locationmode": "USA-states",
         "locations": [
          "CA",
          "TX",
          "FL",
          "PA",
          "MI",
          "NY",
          "IL",
          "GA",
          "WA",
          "MD",
          "VA",
          "OH",
          "NJ",
          "NC",
          "MA",
          "NE",
          "MO",
          "CT",
          "SC",
          "AZ",
          "MN",
          "IA",
          "TN",
          "WI",
          "IN",
          "RI",
          "CO",
          "NV",
          "OR",
          "UT",
          "KS",
          "KY",
          "LA",
          "OK",
          "DC",
          "MS",
          "ID",
          "NH",
          "WV",
          "DE",
          "NM",
          "ME",
          "AL",
          "WY",
          "MT",
          "AR",
          "VT",
          "SD",
          "ND"
         ],
         "type": "choropleth",
         "visible": false,
         "z": [
          47701,
          25242,
          17494,
          10445,
          8953,
          8608,
          8456,
          6498,
          4459,
          3882,
          3740,
          3662,
          3422,
          2938,
          2492,
          1952,
          1829,
          1821,
          1429,
          1386,
          1320,
          1067,
          772,
          763,
          699,
          636,
          632,
          591,
          581,
          423,
          375,
          342,
          326,
          297,
          217,
          178,
          170,
          136,
          127,
          102,
          79,
          69,
          55,
          37,
          30,
          12,
          8,
          3,
          1
         ]
        }
       ],
       "layout": {
        "geo": {
         "scope": "usa"
        },
        "template": {
         "data": {
          "bar": [
           {
            "error_x": {
             "color": "#2a3f5f"
            },
            "error_y": {
             "color": "#2a3f5f"
            },
            "marker": {
             "line": {
              "color": "#E5ECF6",
              "width": 0.5
             },
             "pattern": {
              "fillmode": "overlay",
              "size": 10,
              "solidity": 0.2
             }
            },
            "type": "bar"
           }
          ],
          "barpolar": [
           {
            "marker": {
             "line": {
              "color": "#E5ECF6",
              "width": 0.5
             },
             "pattern": {
              "fillmode": "overlay",
              "size": 10,
              "solidity": 0.2
             }
            },
            "type": "barpolar"
           }
          ],
          "carpet": [
           {
            "aaxis": {
             "endlinecolor": "#2a3f5f",
             "gridcolor": "white",
             "linecolor": "white",
             "minorgridcolor": "white",
             "startlinecolor": "#2a3f5f"
            },
            "baxis": {
             "endlinecolor": "#2a3f5f",
             "gridcolor": "white",
             "linecolor": "white",
             "minorgridcolor": "white",
             "startlinecolor": "#2a3f5f"
            },
            "type": "carpet"
           }
          ],
          "choropleth": [
           {
            "colorbar": {
             "outlinewidth": 0,
             "ticks": ""
            },
            "type": "choropleth"
           }
          ],
          "contour": [
           {
            "colorbar": {
             "outlinewidth": 0,
             "ticks": ""
            },
            "colorscale": [
             [
              0,
              "#0d0887"
             ],
             [
              0.1111111111111111,
              "#46039f"
             ],
             [
              0.2222222222222222,
              "#7201a8"
             ],
             [
              0.3333333333333333,
              "#9c179e"
             ],
             [
              0.4444444444444444,
              "#bd3786"
             ],
             [
              0.5555555555555556,
              "#d8576b"
             ],
             [
              0.6666666666666666,
              "#ed7953"
             ],
             [
              0.7777777777777778,
              "#fb9f3a"
             ],
             [
              0.8888888888888888,
              "#fdca26"
             ],
             [
              1,
              "#f0f921"
             ]
            ],
            "type": "contour"
           }
          ],
          "contourcarpet": [
           {
            "colorbar": {
             "outlinewidth": 0,
             "ticks": ""
            },
            "type": "contourcarpet"
           }
          ],
          "heatmap": [
           {
            "colorbar": {
             "outlinewidth": 0,
             "ticks": ""
            },
            "colorscale": [
             [
              0,
              "#0d0887"
             ],
             [
              0.1111111111111111,
              "#46039f"
             ],
             [
              0.2222222222222222,
              "#7201a8"
             ],
             [
              0.3333333333333333,
              "#9c179e"
             ],
             [
              0.4444444444444444,
              "#bd3786"
             ],
             [
              0.5555555555555556,
              "#d8576b"
             ],
             [
              0.6666666666666666,
              "#ed7953"
             ],
             [
              0.7777777777777778,
              "#fb9f3a"
             ],
             [
              0.8888888888888888,
              "#fdca26"
             ],
             [
              1,
              "#f0f921"
             ]
            ],
            "type": "heatmap"
           }
          ],
          "heatmapgl": [
           {
            "colorbar": {
             "outlinewidth": 0,
             "ticks": ""
            },
            "colorscale": [
             [
              0,
              "#0d0887"
             ],
             [
              0.1111111111111111,
              "#46039f"
             ],
             [
              0.2222222222222222,
              "#7201a8"
             ],
             [
              0.3333333333333333,
              "#9c179e"
             ],
             [
              0.4444444444444444,
              "#bd3786"
             ],
             [
              0.5555555555555556,
              "#d8576b"
             ],
             [
              0.6666666666666666,
              "#ed7953"
             ],
             [
              0.7777777777777778,
              "#fb9f3a"
             ],
             [
              0.8888888888888888,
              "#fdca26"
             ],
             [
              1,
              "#f0f921"
             ]
            ],
            "type": "heatmapgl"
           }
          ],
          "histogram": [
           {
            "marker": {
             "pattern": {
              "fillmode": "overlay",
              "size": 10,
              "solidity": 0.2
             }
            },
            "type": "histogram"
           }
          ],
          "histogram2d": [
           {
            "colorbar": {
             "outlinewidth": 0,
             "ticks": ""
            },
            "colorscale": [
             [
              0,
              "#0d0887"
             ],
             [
              0.1111111111111111,
              "#46039f"
             ],
             [
              0.2222222222222222,
              "#7201a8"
             ],
             [
              0.3333333333333333,
              "#9c179e"
             ],
             [
              0.4444444444444444,
              "#bd3786"
             ],
             [
              0.5555555555555556,
              "#d8576b"
             ],
             [
              0.6666666666666666,
              "#ed7953"
             ],
             [
              0.7777777777777778,
              "#fb9f3a"
             ],
             [
              0.8888888888888888,
              "#fdca26"
             ],
             [
              1,
              "#f0f921"
             ]
            ],
            "type": "histogram2d"
           }
          ],
          "histogram2dcontour": [
           {
            "colorbar": {
             "outlinewidth": 0,
             "ticks": ""
            },
            "colorscale": [
             [
              0,
              "#0d0887"
             ],
             [
              0.1111111111111111,
              "#46039f"
             ],
             [
              0.2222222222222222,
              "#7201a8"
             ],
             [
              0.3333333333333333,
              "#9c179e"
             ],
             [
              0.4444444444444444,
              "#bd3786"
             ],
             [
              0.5555555555555556,
              "#d8576b"
             ],
             [
              0.6666666666666666,
              "#ed7953"
             ],
             [
              0.7777777777777778,
              "#fb9f3a"
             ],
             [
              0.8888888888888888,
              "#fdca26"
             ],
             [
              1,
              "#f0f921"
             ]
            ],
            "type": "histogram2dcontour"
           }
          ],
          "mesh3d": [
           {
            "colorbar": {
             "outlinewidth": 0,
             "ticks": ""
            },
            "type": "mesh3d"
           }
          ],
          "parcoords": [
           {
            "line": {
             "colorbar": {
              "outlinewidth": 0,
              "ticks": ""
             }
            },
            "type": "parcoords"
           }
          ],
          "pie": [
           {
            "automargin": true,
            "type": "pie"
           }
          ],
          "scatter": [
           {
            "fillpattern": {
             "fillmode": "overlay",
             "size": 10,
             "solidity": 0.2
            },
            "type": "scatter"
           }
          ],
          "scatter3d": [
           {
            "line": {
             "colorbar": {
              "outlinewidth": 0,
              "ticks": ""
             }
            },
            "marker": {
             "colorbar": {
              "outlinewidth": 0,
              "ticks": ""
             }
            },
            "type": "scatter3d"
           }
          ],
          "scattercarpet": [
           {
            "marker": {
             "colorbar": {
              "outlinewidth": 0,
              "ticks": ""
             }
            },
            "type": "scattercarpet"
           }
          ],
          "scattergeo": [
           {
            "marker": {
             "colorbar": {
              "outlinewidth": 0,
              "ticks": ""
             }
            },
            "type": "scattergeo"
           }
          ],
          "scattergl": [
           {
            "marker": {
             "colorbar": {
              "outlinewidth": 0,
              "ticks": ""
             }
            },
            "type": "scattergl"
           }
          ],
          "scattermapbox": [
           {
            "marker": {
             "colorbar": {
              "outlinewidth": 0,
              "ticks": ""
             }
            },
            "type": "scattermapbox"
           }
          ],
          "scatterpolar": [
           {
            "marker": {
             "colorbar": {
              "outlinewidth": 0,
              "ticks": ""
             }
            },
            "type": "scatterpolar"
           }
          ],
          "scatterpolargl": [
           {
            "marker": {
             "colorbar": {
              "outlinewidth": 0,
              "ticks": ""
             }
            },
            "type": "scatterpolargl"
           }
          ],
          "scatterternary": [
           {
            "marker": {
             "colorbar": {
              "outlinewidth": 0,
              "ticks": ""
             }
            },
            "type": "scatterternary"
           }
          ],
          "surface": [
           {
            "colorbar": {
             "outlinewidth": 0,
             "ticks": ""
            },
            "colorscale": [
             [
              0,
              "#0d0887"
             ],
             [
              0.1111111111111111,
              "#46039f"
             ],
             [
              0.2222222222222222,
              "#7201a8"
             ],
             [
              0.3333333333333333,
              "#9c179e"
             ],
             [
              0.4444444444444444,
              "#bd3786"
             ],
             [
              0.5555555555555556,
              "#d8576b"
             ],
             [
              0.6666666666666666,
              "#ed7953"
             ],
             [
              0.7777777777777778,
              "#fb9f3a"
             ],
             [
              0.8888888888888888,
              "#fdca26"
             ],
             [
              1,
              "#f0f921"
             ]
            ],
            "type": "surface"
           }
          ],
          "table": [
           {
            "cells": {
             "fill": {
              "color": "#EBF0F8"
             },
             "line": {
              "color": "white"
             }
            },
            "header": {
             "fill": {
              "color": "#C8D4E3"
             },
             "line": {
              "color": "white"
             }
            },
            "type": "table"
           }
          ]
         },
         "layout": {
          "annotationdefaults": {
           "arrowcolor": "#2a3f5f",
           "arrowhead": 0,
           "arrowwidth": 1
          },
          "autotypenumbers": "strict",
          "coloraxis": {
           "colorbar": {
            "outlinewidth": 0,
            "ticks": ""
           }
          },
          "colorscale": {
           "diverging": [
            [
             0,
             "#8e0152"
            ],
            [
             0.1,
             "#c51b7d"
            ],
            [
             0.2,
             "#de77ae"
            ],
            [
             0.3,
             "#f1b6da"
            ],
            [
             0.4,
             "#fde0ef"
            ],
            [
             0.5,
             "#f7f7f7"
            ],
            [
             0.6,
             "#e6f5d0"
            ],
            [
             0.7,
             "#b8e186"
            ],
            [
             0.8,
             "#7fbc41"
            ],
            [
             0.9,
             "#4d9221"
            ],
            [
             1,
             "#276419"
            ]
           ],
           "sequential": [
            [
             0,
             "#0d0887"
            ],
            [
             0.1111111111111111,
             "#46039f"
            ],
            [
             0.2222222222222222,
             "#7201a8"
            ],
            [
             0.3333333333333333,
             "#9c179e"
            ],
            [
             0.4444444444444444,
             "#bd3786"
            ],
            [
             0.5555555555555556,
             "#d8576b"
            ],
            [
             0.6666666666666666,
             "#ed7953"
            ],
            [
             0.7777777777777778,
             "#fb9f3a"
            ],
            [
             0.8888888888888888,
             "#fdca26"
            ],
            [
             1,
             "#f0f921"
            ]
           ],
           "sequentialminus": [
            [
             0,
             "#0d0887"
            ],
            [
             0.1111111111111111,
             "#46039f"
            ],
            [
             0.2222222222222222,
             "#7201a8"
            ],
            [
             0.3333333333333333,
             "#9c179e"
            ],
            [
             0.4444444444444444,
             "#bd3786"
            ],
            [
             0.5555555555555556,
             "#d8576b"
            ],
            [
             0.6666666666666666,
             "#ed7953"
            ],
            [
             0.7777777777777778,
             "#fb9f3a"
            ],
            [
             0.8888888888888888,
             "#fdca26"
            ],
            [
             1,
             "#f0f921"
            ]
           ]
          },
          "colorway": [
           "#636efa",
           "#EF553B",
           "#00cc96",
           "#ab63fa",
           "#FFA15A",
           "#19d3f3",
           "#FF6692",
           "#B6E880",
           "#FF97FF",
           "#FECB52"
          ],
          "font": {
           "color": "#2a3f5f"
          },
          "geo": {
           "bgcolor": "white",
           "lakecolor": "white",
           "landcolor": "#E5ECF6",
           "showlakes": true,
           "showland": true,
           "subunitcolor": "white"
          },
          "hoverlabel": {
           "align": "left"
          },
          "hovermode": "closest",
          "mapbox": {
           "style": "light"
          },
          "paper_bgcolor": "white",
          "plot_bgcolor": "#E5ECF6",
          "polar": {
           "angularaxis": {
            "gridcolor": "white",
            "linecolor": "white",
            "ticks": ""
           },
           "bgcolor": "#E5ECF6",
           "radialaxis": {
            "gridcolor": "white",
            "linecolor": "white",
            "ticks": ""
           }
          },
          "scene": {
           "xaxis": {
            "backgroundcolor": "#E5ECF6",
            "gridcolor": "white",
            "gridwidth": 2,
            "linecolor": "white",
            "showbackground": true,
            "ticks": "",
            "zerolinecolor": "white"
           },
           "yaxis": {
            "backgroundcolor": "#E5ECF6",
            "gridcolor": "white",
            "gridwidth": 2,
            "linecolor": "white",
            "showbackground": true,
            "ticks": "",
            "zerolinecolor": "white"
           },
           "zaxis": {
            "backgroundcolor": "#E5ECF6",
            "gridcolor": "white",
            "gridwidth": 2,
            "linecolor": "white",
            "showbackground": true,
            "ticks": "",
            "zerolinecolor": "white"
           }
          },
          "shapedefaults": {
           "line": {
            "color": "#2a3f5f"
           }
          },
          "ternary": {
           "aaxis": {
            "gridcolor": "white",
            "linecolor": "white",
            "ticks": ""
           },
           "baxis": {
            "gridcolor": "white",
            "linecolor": "white",
            "ticks": ""
           },
           "bgcolor": "#E5ECF6",
           "caxis": {
            "gridcolor": "white",
            "linecolor": "white",
            "ticks": ""
           }
          },
          "title": {
           "x": 0.05
          },
          "xaxis": {
           "automargin": true,
           "gridcolor": "white",
           "linecolor": "white",
           "ticks": "",
           "title": {
            "standoff": 15
           },
           "zerolinecolor": "white",
           "zerolinewidth": 2
          },
          "yaxis": {
           "automargin": true,
           "gridcolor": "white",
           "linecolor": "white",
           "ticks": "",
           "title": {
            "standoff": 15
           },
           "zerolinecolor": "white",
           "zerolinewidth": 2
          }
         }
        },
        "title": {
         "text": "Amount of accidents by State and Season"
        },
        "updatemenus": [
         {
          "buttons": [
           {
            "args": [
             {
              "visible": [
               true,
               false,
               false,
               false
              ]
             },
             {
              "title": "Amount of accidents in Winter"
             }
            ],
            "label": "Winter",
            "method": "update"
           },
           {
            "args": [
             {
              "visible": [
               false,
               true,
               false,
               false
              ]
             },
             {
              "title": "Amount of accidents in Spring"
             }
            ],
            "label": "Spring",
            "method": "update"
           },
           {
            "args": [
             {
              "visible": [
               false,
               false,
               true,
               false
              ]
             },
             {
              "title": "Amount of accidents in Summer"
             }
            ],
            "label": "Summer",
            "method": "update"
           },
           {
            "args": [
             {
              "visible": [
               false,
               false,
               false,
               true
              ]
             },
             {
              "title": "Amount of accidents in Autumn"
             }
            ],
            "label": "Autumn",
            "method": "update"
           }
          ],
          "direction": "down",
          "showactive": true
         }
        ]
       }
      }
     },
     "metadata": {},
     "output_type": "display_data"
    }
   ],
   "source": [
    "state_counts = df['State'].value_counts().reset_index()\n",
    "state_counts.columns = ['State', 'Count']\n",
    "\n",
    "def get_state_counts_for_season(season):\n",
    "    return df[df['season'] == season]['State'].value_counts().reset_index()\n",
    "\n",
    "seasons = ['winter', 'spring', 'summer', 'autumn']\n",
    "choropleths = []\n",
    "\n",
    "for season in seasons:\n",
    "    state_counts = get_state_counts_for_season(season)\n",
    "    state_counts.columns = ['State', 'Count']\n",
    "    choropleths.append(\n",
    "        go.Choropleth(\n",
    "            locations=state_counts['State'],\n",
    "            z=state_counts['Count'],\n",
    "            locationmode='USA-states',\n",
    "            colorscale='Reds',\n",
    "            colorbar_title=\"Number of Accidents\",\n",
    "            visible=False  # initially make all choropleths invisible\n",
    "        )\n",
    "    )\n",
    "\n",
    "choropleths[0].visible = True\n",
    "\n",
    "fig = go.Figure(data=choropleths)\n",
    "\n",
    "updatemenu = [\n",
    "    {\n",
    "        'buttons': [\n",
    "            {'label': 'Winter', 'method': 'update', 'args': [{'visible': [s == 'winter' for s in seasons]}, {'title': 'Amount of accidents in Winter'}]},\n",
    "            {'label': 'Spring', 'method': 'update', 'args': [{'visible': [s == 'spring' for s in seasons]}, {'title': 'Amount of accidents in Spring'}]},\n",
    "            {'label': 'Summer', 'method': 'update', 'args': [{'visible': [s == 'summer' for s in seasons]}, {'title': 'Amount of accidents in Summer'}]},\n",
    "            {'label': 'Autumn', 'method': 'update', 'args': [{'visible': [s == 'autumn' for s in seasons]}, {'title': 'Amount of accidents in Autumn'}]},\n",
    "        ],\n",
    "        'direction': 'down',\n",
    "        'showactive': True,\n",
    "    }\n",
    "]\n",
    "\n",
    "\n",
    "fig.update_layout(\n",
    "    title_text='Amount of accidents by State and Season',\n",
    "    geo_scope='usa',  # limit map scope to USA\n",
    "    updatemenus=updatemenu,\n",
    ")\n",
    "\n",
    "fig.show()"
   ]
  }
 ],
 "metadata": {
  "kernelspec": {
   "display_name": "Python 3",
   "language": "python",
   "name": "python3"
  },
  "language_info": {
   "codemirror_mode": {
    "name": "ipython",
    "version": 3
   },
   "file_extension": ".py",
   "mimetype": "text/x-python",
   "name": "python",
   "nbconvert_exporter": "python",
   "pygments_lexer": "ipython3",
   "version": "3.10.12"
  }
 },
 "nbformat": 4,
 "nbformat_minor": 2
}
