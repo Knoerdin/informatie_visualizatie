{
 "cells": [
  {
   "cell_type": "code",
   "execution_count": 2,
   "metadata": {},
   "outputs": [
    {
     "ename": "ModuleNotFoundError",
     "evalue": "No module named 'matplotlib'",
     "output_type": "error",
     "traceback": [
      "\u001b[0;31m---------------------------------------------------------------------------\u001b[0m",
      "\u001b[0;31mModuleNotFoundError\u001b[0m                       Traceback (most recent call last)",
      "Cell \u001b[0;32mIn[2], line 1\u001b[0m\n\u001b[0;32m----> 1\u001b[0m \u001b[38;5;28;01mfrom\u001b[39;00m \u001b[38;5;21;01mmatplotlib\u001b[39;00m \u001b[38;5;28;01mimport\u001b[39;00m scale\n\u001b[1;32m      2\u001b[0m \u001b[38;5;28;01mimport\u001b[39;00m \u001b[38;5;21;01mpandas\u001b[39;00m \u001b[38;5;28;01mas\u001b[39;00m \u001b[38;5;21;01mpd\u001b[39;00m\n\u001b[1;32m      3\u001b[0m \u001b[38;5;28;01mimport\u001b[39;00m \u001b[38;5;21;01mplotly\u001b[39;00m\u001b[38;5;21;01m.\u001b[39;00m\u001b[38;5;21;01mexpress\u001b[39;00m \u001b[38;5;28;01mas\u001b[39;00m \u001b[38;5;21;01mpx\u001b[39;00m\n",
      "\u001b[0;31mModuleNotFoundError\u001b[0m: No module named 'matplotlib'"
     ]
    }
   ],
   "source": [
    "from matplotlib import scale\n",
    "import pandas as pd\n",
    "import plotly.express as px\n",
    "import plotly.graph_objects as go\n",
    "\n",
    "df = pd.read_csv('A_AccidentsData.csv')\n",
    "groottes = [(0, 5), (5, 50), (50, 500), (500, 5000), (5000, 500000)]\n",
    "colors = [\"Black\", \"Yellow\", \"Red\", \"Green\", \"Blue\"]\n",
    "\n",
    "scale = 0.03\n",
    "\n",
    "fig = go.Figure()\n",
    "\n",
    "for i in range(len(groottes)):\n",
    "    lim = groottes[i]\n",
    "    df_sub = df[(df['ongelukken'] >= lim[0]) & (df['ongelukken'] < lim[1])]\n",
    "    fig.add_trace(go.Scattergeo(\n",
    "        locationmode='USA-states',\n",
    "        lon=df_sub['lng'],\n",
    "        lat=df_sub['lat'],\n",
    "        text=df_sub['City'] + ': ' + df_sub['ongelukken'].astype(str) + ' ongelukken',\n",
    "        mode='markers',\n",
    "        marker=dict(\n",
    "            size=df_sub['ongelukken'] * scale,\n",
    "            color=colors[i],\n",
    "            line_color='rgb(40,40,40)',\n",
    "            line_width=0.5,\n",
    "            sizemode='area'\n",
    "        ),\n",
    "        name=f'{lim[0]} - {lim[1]} ongelukken'\n",
    "    ))\n",
    "\n",
    "fig.update_layout(\n",
    "    title_text='Aantal ongelukken per stad in de VS',\n",
    "    showlegend=True,\n",
    "    geo=dict(\n",
    "        scope='usa',\n",
    "        landcolor='rgb(217, 217, 217)',\n",
    "    )\n",
    ")\n",
    "\n",
    "fig.show()"
   ]
  },
  {
   "cell_type": "code",
   "execution_count": null,
   "metadata": {},
   "outputs": [],
   "source": []
  }
 ],
 "metadata": {
  "kernelspec": {
   "display_name": "Python 3 (ipykernel)",
   "language": "python",
   "name": "python3"
  },
  "language_info": {
   "codemirror_mode": {
    "name": "ipython",
    "version": 3
   },
   "file_extension": ".py",
   "mimetype": "text/x-python",
   "name": "python",
   "nbconvert_exporter": "python",
   "pygments_lexer": "ipython3",
   "version": "3.12.3"
  }
 },
 "nbformat": 4,
 "nbformat_minor": 4
}
