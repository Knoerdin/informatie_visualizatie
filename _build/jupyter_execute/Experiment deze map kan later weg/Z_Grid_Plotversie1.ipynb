{
 "cells": [
  {
   "cell_type": "code",
   "execution_count": 1,
   "metadata": {},
   "outputs": [
    {
     "ename": "ModuleNotFoundError",
     "evalue": "No module named 'ipywidgets'",
     "output_type": "error",
     "traceback": [
      "\u001b[0;31m---------------------------------------------------------------------------\u001b[0m",
      "\u001b[0;31mModuleNotFoundError\u001b[0m                       Traceback (most recent call last)",
      "Cell \u001b[0;32mIn[1], line 3\u001b[0m\n\u001b[1;32m      1\u001b[0m \u001b[38;5;28;01mimport\u001b[39;00m \u001b[38;5;21;01mpandas\u001b[39;00m \u001b[38;5;28;01mas\u001b[39;00m \u001b[38;5;21;01mpd\u001b[39;00m\n\u001b[1;32m      2\u001b[0m \u001b[38;5;28;01mimport\u001b[39;00m \u001b[38;5;21;01mplotly\u001b[39;00m\u001b[38;5;21;01m.\u001b[39;00m\u001b[38;5;21;01mexpress\u001b[39;00m \u001b[38;5;28;01mas\u001b[39;00m \u001b[38;5;21;01mpx\u001b[39;00m\n\u001b[0;32m----> 3\u001b[0m \u001b[38;5;28;01mimport\u001b[39;00m \u001b[38;5;21;01mipywidgets\u001b[39;00m \u001b[38;5;28;01mas\u001b[39;00m \u001b[38;5;21;01mwidgets\u001b[39;00m\n\u001b[1;32m      4\u001b[0m \u001b[38;5;28;01mfrom\u001b[39;00m \u001b[38;5;21;01mIPython\u001b[39;00m\u001b[38;5;21;01m.\u001b[39;00m\u001b[38;5;21;01mdisplay\u001b[39;00m \u001b[38;5;28;01mimport\u001b[39;00m display, clear_output\n\u001b[1;32m      6\u001b[0m data \u001b[38;5;241m=\u001b[39m pd\u001b[38;5;241m.\u001b[39mread_csv(\u001b[38;5;124m'\u001b[39m\u001b[38;5;124mF_PlotData.csv\u001b[39m\u001b[38;5;124m'\u001b[39m)\n",
      "\u001b[0;31mModuleNotFoundError\u001b[0m: No module named 'ipywidgets'"
     ]
    }
   ],
   "source": [
    "import pandas as pd\n",
    "import plotly.express as px\n",
    "import ipywidgets as widgets\n",
    "from IPython.display import display, clear_output\n",
    "\n",
    "data = pd.read_csv('F_PlotData.csv')\n",
    "data['Date'] = pd.to_datetime(data['Date'])\n",
    "\n",
    "def update_figure(selected_date):\n",
    "    filtered_data = data[data['Date'].dt.to_period('M') == selected_date]\n",
    "    \n",
    "    fig = px.scatter(filtered_data, \n",
    "                     x='Average_Severity', \n",
    "                     y='Weather_Score', \n",
    "                     color='Region', \n",
    "                     trendline='ols',  # Voeg een regressielijn toe\n",
    "                     trendline_color_override='black',  # Kleur van de regressielijn\n",
    "                     hover_data={'Region': True, 'Date': True},\n",
    "                     facet_col='Region',\n",
    "                     facet_col_wrap=3,\n",
    "                     height=600,\n",
    "                     width=1200,\n",
    "                     labels={'Average_Severity': 'Average Severity', 'Weather_Score': 'Weather Score'}\n",
    "                     )\n",
    "    \n",
    "    fig.update_layout(title=\"The impact of weather on the severity of traffic accidents, in the regions of the US, during a specific timeframe\",\n",
    "                      showlegend=False)\n",
    "    fig.update_xaxes(range=[1.8, 4.2],  # Bereik van de x-as\n",
    "                     dtick=1)       # Stapgrootte van de x-as\n",
    "    fig.update_yaxes(range=[0.2, 1],  # Bereik van de x-as\n",
    "                     dtick=1)       # Stapgrootte van de x-as\n",
    "    \n",
    "    clear_output(wait=True)\n",
    "    display(date_dropdown)\n",
    "    fig.show()\n",
    "\n",
    "# Dropdown menu voor datumselectie\n",
    "dates = ['2016-01', '2016-04', '2016-07', '2016-10', '2017-01', '2017-04', '2017-07', '2017-10']\n",
    "date_dropdown = widgets.Dropdown(\n",
    "    options=dates,\n",
    "    value='2017-01',\n",
    "    description='Date:'\n",
    ")\n",
    "display(date_dropdown)\n",
    "\n",
    "def on_date_change(change):\n",
    "    update_figure(change.new)\n",
    "\n",
    "date_dropdown.observe(on_date_change, names='value')\n",
    "\n",
    "update_figure('2017-01')\n"
   ]
  }
 ],
 "metadata": {
  "kernelspec": {
   "display_name": "base",
   "language": "python",
   "name": "python3"
  },
  "language_info": {
   "codemirror_mode": {
    "name": "ipython",
    "version": 3
   },
   "file_extension": ".py",
   "mimetype": "text/x-python",
   "name": "python",
   "nbconvert_exporter": "python",
   "pygments_lexer": "ipython3",
   "version": "3.10.14"
  }
 },
 "nbformat": 4,
 "nbformat_minor": 2
}