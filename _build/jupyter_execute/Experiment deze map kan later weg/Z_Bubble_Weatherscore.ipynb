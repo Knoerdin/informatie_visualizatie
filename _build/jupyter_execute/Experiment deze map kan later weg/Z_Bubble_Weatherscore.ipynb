{
 "cells": [
  {
   "cell_type": "code",
   "execution_count": 1,
   "metadata": {},
   "outputs": [
    {
     "ename": "ModuleNotFoundError",
     "evalue": "No module named 'matplotlib'",
     "output_type": "error",
     "traceback": [
      "\u001b[1;31m---------------------------------------------------------------------------\u001b[0m",
      "\u001b[1;31mModuleNotFoundError\u001b[0m                       Traceback (most recent call last)",
      "Cell \u001b[1;32mIn[1], line 1\u001b[0m\n\u001b[1;32m----> 1\u001b[0m \u001b[38;5;28;01mfrom\u001b[39;00m \u001b[38;5;21;01mmatplotlib\u001b[39;00m \u001b[38;5;28;01mimport\u001b[39;00m scale\n\u001b[0;32m      2\u001b[0m \u001b[38;5;28;01mimport\u001b[39;00m \u001b[38;5;21;01mpandas\u001b[39;00m \u001b[38;5;28;01mas\u001b[39;00m \u001b[38;5;21;01mpd\u001b[39;00m\n\u001b[0;32m      3\u001b[0m \u001b[38;5;28;01mimport\u001b[39;00m \u001b[38;5;21;01mplotly\u001b[39;00m\u001b[38;5;21;01m.\u001b[39;00m\u001b[38;5;21;01mexpress\u001b[39;00m \u001b[38;5;28;01mas\u001b[39;00m \u001b[38;5;21;01mpx\u001b[39;00m\n",
      "\u001b[1;31mModuleNotFoundError\u001b[0m: No module named 'matplotlib'"
     ]
    }
   ],
   "source": [
    "from matplotlib import scale\n",
    "import pandas as pd\n",
    "import plotly.express as px\n",
    "import plotly.graph_objects as go\n",
    "\n",
    "df = pd.read_csv('W_WeatherBubbleData.csv')\n",
    "\n",
    "grootte = [(0,0.30),(0.30,0.35),(0.35,0.40),(0.40,0.45),(0.45,0.50),(0.50,1)]\n",
    "color_scale = px.colors.diverging.Tealrose\n",
    "\n",
    "def assign_size(score):\n",
    "    for i, (min_range, max_range) in enumerate(grootte):\n",
    "        if min_range <= score < max_range:\n",
    "            return (i + 1) * 5\n",
    "    return 5 \n",
    "\n",
    "hover_text = []\n",
    "for index, row in df.iterrows():\n",
    "    hover_text.append(f\"City: {row['city']}<br>Score: {row['score']}\")\n",
    "\n",
    "fig = go.Figure()\n",
    "\n",
    "fig.add_trace(go.Scattergeo(\n",
    "    locationmode='USA-states',\n",
    "    lon=df['lng'],\n",
    "    lat=df['lat'],\n",
    "    mode='markers',\n",
    "    marker=dict(\n",
    "        size=[assign_size(score) for score in df['score']],\n",
    "        color=df['score'],\n",
    "        colorscale=color_scale,\n",
    "        colorbar=dict(title='Weather Score'),\n",
    "        line_color='rgb(40, 40, 40)',\n",
    "        line_width=0.5,\n",
    "        sizemode='diameter',\n",
    "        opacity=0.8\n",
    "    ),\n",
    "    text=hover_text,\n",
    "    hoverinfo='text',\n",
    "))\n",
    "\n",
    "fig.update_layout(\n",
    "    title='Weather score per grote stad in Amerika',\n",
    "    geo=dict(\n",
    "        scope='usa',\n",
    "        landcolor='rgb(217, 217, 217)',\n",
    "    )\n",
    ")\n",
    "\n",
    "fig.show()"
   ]
  },
  {
   "cell_type": "code",
   "execution_count": null,
   "metadata": {},
   "outputs": [],
   "source": []
  }
 ],
 "metadata": {
  "kernelspec": {
   "display_name": "Python 3 (ipykernel)",
   "language": "python",
   "name": "python3"
  },
  "language_info": {
   "codemirror_mode": {
    "name": "ipython",
    "version": 3
   },
   "file_extension": ".py",
   "mimetype": "text/x-python",
   "name": "python",
   "nbconvert_exporter": "python",
   "pygments_lexer": "ipython3",
   "version": "3.10.14"
  }
 },
 "nbformat": 4,
 "nbformat_minor": 4
}