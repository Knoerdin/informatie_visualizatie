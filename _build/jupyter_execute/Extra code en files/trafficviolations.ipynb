{
 "cells": [
  {
   "cell_type": "code",
   "execution_count": 2,
   "metadata": {},
   "outputs": [
    {
     "data": {
      "text/html": [
       "<div>\n",
       "<style scoped>\n",
       "    .dataframe tbody tr th:only-of-type {\n",
       "        vertical-align: middle;\n",
       "    }\n",
       "\n",
       "    .dataframe tbody tr th {\n",
       "        vertical-align: top;\n",
       "    }\n",
       "\n",
       "    .dataframe thead th {\n",
       "        text-align: right;\n",
       "    }\n",
       "</style>\n",
       "<table border=\"1\" class=\"dataframe\">\n",
       "  <thead>\n",
       "    <tr style=\"text-align: right;\">\n",
       "      <th></th>\n",
       "      <th>Severity</th>\n",
       "      <th>Distance(mi)</th>\n",
       "      <th>Accident</th>\n",
       "      <th>Belts</th>\n",
       "      <th>Personal Injury</th>\n",
       "      <th>Fatal</th>\n",
       "      <th>Alcohol</th>\n",
       "      <th>Work Zone</th>\n",
       "      <th>Contributed To Accident</th>\n",
       "      <th>Portland</th>\n",
       "    </tr>\n",
       "  </thead>\n",
       "  <tbody>\n",
       "    <tr>\n",
       "      <th>Severity</th>\n",
       "      <td>1.000000</td>\n",
       "      <td>-0.420149</td>\n",
       "      <td>NaN</td>\n",
       "      <td>0.022570</td>\n",
       "      <td>-0.010710</td>\n",
       "      <td>-0.000097</td>\n",
       "      <td>-0.020523</td>\n",
       "      <td>-0.012532</td>\n",
       "      <td>-0.014387</td>\n",
       "      <td>-0.169112</td>\n",
       "    </tr>\n",
       "    <tr>\n",
       "      <th>Distance(mi)</th>\n",
       "      <td>-0.420149</td>\n",
       "      <td>1.000000</td>\n",
       "      <td>NaN</td>\n",
       "      <td>0.008919</td>\n",
       "      <td>0.009463</td>\n",
       "      <td>0.036443</td>\n",
       "      <td>0.010670</td>\n",
       "      <td>0.020209</td>\n",
       "      <td>0.023507</td>\n",
       "      <td>-0.050620</td>\n",
       "    </tr>\n",
       "    <tr>\n",
       "      <th>Accident</th>\n",
       "      <td>NaN</td>\n",
       "      <td>NaN</td>\n",
       "      <td>NaN</td>\n",
       "      <td>NaN</td>\n",
       "      <td>NaN</td>\n",
       "      <td>NaN</td>\n",
       "      <td>NaN</td>\n",
       "      <td>NaN</td>\n",
       "      <td>NaN</td>\n",
       "      <td>NaN</td>\n",
       "    </tr>\n",
       "    <tr>\n",
       "      <th>Belts</th>\n",
       "      <td>0.022570</td>\n",
       "      <td>0.008919</td>\n",
       "      <td>NaN</td>\n",
       "      <td>1.000000</td>\n",
       "      <td>0.578927</td>\n",
       "      <td>0.095030</td>\n",
       "      <td>0.289207</td>\n",
       "      <td>0.122689</td>\n",
       "      <td>0.676409</td>\n",
       "      <td>-0.007764</td>\n",
       "    </tr>\n",
       "    <tr>\n",
       "      <th>Personal Injury</th>\n",
       "      <td>-0.010710</td>\n",
       "      <td>0.009463</td>\n",
       "      <td>NaN</td>\n",
       "      <td>0.578927</td>\n",
       "      <td>1.000000</td>\n",
       "      <td>0.201036</td>\n",
       "      <td>0.214151</td>\n",
       "      <td>0.076302</td>\n",
       "      <td>0.756831</td>\n",
       "      <td>-0.007597</td>\n",
       "    </tr>\n",
       "    <tr>\n",
       "      <th>Fatal</th>\n",
       "      <td>-0.000097</td>\n",
       "      <td>0.036443</td>\n",
       "      <td>NaN</td>\n",
       "      <td>0.095030</td>\n",
       "      <td>0.201036</td>\n",
       "      <td>1.000000</td>\n",
       "      <td>0.057097</td>\n",
       "      <td>-0.002994</td>\n",
       "      <td>0.131413</td>\n",
       "      <td>-0.048716</td>\n",
       "    </tr>\n",
       "    <tr>\n",
       "      <th>Alcohol</th>\n",
       "      <td>-0.020523</td>\n",
       "      <td>0.010670</td>\n",
       "      <td>NaN</td>\n",
       "      <td>0.289207</td>\n",
       "      <td>0.214151</td>\n",
       "      <td>0.057097</td>\n",
       "      <td>1.000000</td>\n",
       "      <td>0.120395</td>\n",
       "      <td>0.285480</td>\n",
       "      <td>0.001078</td>\n",
       "    </tr>\n",
       "    <tr>\n",
       "      <th>Work Zone</th>\n",
       "      <td>-0.012532</td>\n",
       "      <td>0.020209</td>\n",
       "      <td>NaN</td>\n",
       "      <td>0.122689</td>\n",
       "      <td>0.076302</td>\n",
       "      <td>-0.002994</td>\n",
       "      <td>0.120395</td>\n",
       "      <td>1.000000</td>\n",
       "      <td>0.116186</td>\n",
       "      <td>0.003422</td>\n",
       "    </tr>\n",
       "    <tr>\n",
       "      <th>Contributed To Accident</th>\n",
       "      <td>-0.014387</td>\n",
       "      <td>0.023507</td>\n",
       "      <td>NaN</td>\n",
       "      <td>0.676409</td>\n",
       "      <td>0.756831</td>\n",
       "      <td>0.131413</td>\n",
       "      <td>0.285480</td>\n",
       "      <td>0.116186</td>\n",
       "      <td>1.000000</td>\n",
       "      <td>-0.000110</td>\n",
       "    </tr>\n",
       "    <tr>\n",
       "      <th>Portland</th>\n",
       "      <td>-0.169112</td>\n",
       "      <td>-0.050620</td>\n",
       "      <td>NaN</td>\n",
       "      <td>-0.007764</td>\n",
       "      <td>-0.007597</td>\n",
       "      <td>-0.048716</td>\n",
       "      <td>0.001078</td>\n",
       "      <td>0.003422</td>\n",
       "      <td>-0.000110</td>\n",
       "      <td>1.000000</td>\n",
       "    </tr>\n",
       "  </tbody>\n",
       "</table>\n",
       "</div>"
      ],
      "text/plain": [
       "                         Severity  Distance(mi)  Accident     Belts  \\\n",
       "Severity                 1.000000     -0.420149       NaN  0.022570   \n",
       "Distance(mi)            -0.420149      1.000000       NaN  0.008919   \n",
       "Accident                      NaN           NaN       NaN       NaN   \n",
       "Belts                    0.022570      0.008919       NaN  1.000000   \n",
       "Personal Injury         -0.010710      0.009463       NaN  0.578927   \n",
       "Fatal                   -0.000097      0.036443       NaN  0.095030   \n",
       "Alcohol                 -0.020523      0.010670       NaN  0.289207   \n",
       "Work Zone               -0.012532      0.020209       NaN  0.122689   \n",
       "Contributed To Accident -0.014387      0.023507       NaN  0.676409   \n",
       "Portland                -0.169112     -0.050620       NaN -0.007764   \n",
       "\n",
       "                         Personal Injury     Fatal   Alcohol  Work Zone  \\\n",
       "Severity                       -0.010710 -0.000097 -0.020523  -0.012532   \n",
       "Distance(mi)                    0.009463  0.036443  0.010670   0.020209   \n",
       "Accident                             NaN       NaN       NaN        NaN   \n",
       "Belts                           0.578927  0.095030  0.289207   0.122689   \n",
       "Personal Injury                 1.000000  0.201036  0.214151   0.076302   \n",
       "Fatal                           0.201036  1.000000  0.057097  -0.002994   \n",
       "Alcohol                         0.214151  0.057097  1.000000   0.120395   \n",
       "Work Zone                       0.076302 -0.002994  0.120395   1.000000   \n",
       "Contributed To Accident         0.756831  0.131413  0.285480   0.116186   \n",
       "Portland                       -0.007597 -0.048716  0.001078   0.003422   \n",
       "\n",
       "                         Contributed To Accident  Portland  \n",
       "Severity                               -0.014387 -0.169112  \n",
       "Distance(mi)                            0.023507 -0.050620  \n",
       "Accident                                     NaN       NaN  \n",
       "Belts                                   0.676409 -0.007764  \n",
       "Personal Injury                         0.756831 -0.007597  \n",
       "Fatal                                   0.131413 -0.048716  \n",
       "Alcohol                                 0.285480  0.001078  \n",
       "Work Zone                               0.116186  0.003422  \n",
       "Contributed To Accident                 1.000000 -0.000110  \n",
       "Portland                               -0.000110  1.000000  "
      ]
     },
     "execution_count": 2,
     "metadata": {},
     "output_type": "execute_result"
    }
   ],
   "source": [
    "import pandas as pd\n",
    "import matplotlib.pyplot as plt\n",
    "import seaborn as sns\n",
    "import plotly.express as px\n",
    "\n",
    "# Load the data files\n",
    "traffic_violations = pd.read_csv('../../../resources/traffic_violations_filtered.csv')\n",
    "us_accidents = pd.read_csv('../../../resources/us_accidents_filtered_rows.csv')\n",
    "us_temperature = pd.read_csv('../../../resources/dataset_weather/us_temperature.csv')\n",
    "\n",
    "traffic_violations['Accident'] = traffic_violations['Accident'].map({'Yes': 1, 'No': 0})\n",
    "traffic_violations['Belts'] = traffic_violations['Belts'].map({'Yes': 1, 'No': 0})\n",
    "traffic_violations['Personal Injury'] = traffic_violations['Personal Injury'].map({'Yes': 1, 'No': 0})\n",
    "traffic_violations['Fatal'] = traffic_violations['Fatal'].map({'Yes': 1, 'No': 0})\n",
    "traffic_violations['Alcohol'] = traffic_violations['Alcohol'].map({'Yes': 1, 'No': 0})\n",
    "traffic_violations['Work Zone'] = traffic_violations['Work Zone'].map({'Yes': 1, 'No': 0})\n",
    "traffic_violations['Contributed To Accident'] = traffic_violations['Contributed To Accident'].map({'Yes': 1, 'No': 0})\n",
    "\n",
    "us_accidents['Astronomical_Twilight'] = us_accidents['Astronomical_Twilight'].map({'Day' : 1, 'Night' : 0})\n",
    "us_accidents['Civil_Twilight'] = us_accidents['Civil_Twilight'].map({'Day' : 1, 'Night' : 0})\n",
    "us_accidents['Nautical_Twilight'] = us_accidents['Nautical_Twilight'].map({'Day' : 1, 'Night' : 0})\n",
    "\n",
    "# Convert date columns to datetime\n",
    "date_format = '%Y-%m-%d'\n",
    "us_accidents['Start_Time'] = pd.to_datetime(us_accidents['Start_Time'], format= \"%Y-%m-%d %H:%M:%S\")\n",
    "traffic_violations['Date Of Stop'] = pd.to_datetime(traffic_violations['Date Of Stop'], format= date_format)\n",
    "us_temperature['datetime'] = pd.to_datetime(us_temperature['datetime'], format= \"%d-%m-%y %H:%M\")\n",
    "\n",
    "# Extract date parts for aggregation\n",
    "us_accidents['Date'] = us_accidents['Start_Time'].dt.date\n",
    "traffic_violations['Date'] = traffic_violations['Date Of Stop'].dt.date\n",
    "us_temperature['Date'] = us_temperature['datetime'].dt.date\n",
    "\n",
    "# Aggregate data by date and state\n",
    "us_accidents_agg = us_accidents.groupby(['Date']).agg({\n",
    "    'Severity': 'mean', \n",
    "    'Distance(mi)': 'sum'\n",
    "}).reset_index()\n",
    "\n",
    "traffic_violations_agg = traffic_violations.groupby(['Date', 'State']).agg({\n",
    "    'Accident': 'sum',\n",
    "    'Belts': 'sum',\n",
    "    'Personal Injury': 'sum',\n",
    "    'Fatal': 'sum',\n",
    "    'Alcohol': 'sum',\n",
    "    'Work Zone': 'sum',\n",
    "    'Contributed To Accident': 'sum'\n",
    "}).reset_index()\n",
    "\n",
    "us_accidents_agg = us_accidents.groupby(['Date']).agg({\n",
    "    'Severity': 'mean', \n",
    "    'Distance(mi)': 'sum'\n",
    "}).reset_index()\n",
    "\n",
    "us_temperature_agg = us_temperature.groupby(['Date']).agg({\n",
    "    'Portland': 'sum'\n",
    "})\n",
    "\n",
    "# Merge datasets on date\n",
    "merged_data = pd.merge(us_accidents_agg, traffic_violations_agg, on='Date', how='inner')\n",
    "\n",
    "d_merged_data = pd.merge(merged_data, us_temperature_agg, on='Date', how='inner')\n",
    "\n",
    "# Compute correlation matrix\n",
    "correlation_matrix = d_merged_data.corr(numeric_only= True)\n",
    "\n",
    "correlation_matrix\n"
   ]
  },
  {
   "cell_type": "code",
   "execution_count": 31,
   "metadata": {},
   "outputs": [
    {
     "data": {
      "text/html": [
       "<div>\n",
       "<style scoped>\n",
       "    .dataframe tbody tr th:only-of-type {\n",
       "        vertical-align: middle;\n",
       "    }\n",
       "\n",
       "    .dataframe tbody tr th {\n",
       "        vertical-align: top;\n",
       "    }\n",
       "\n",
       "    .dataframe thead th {\n",
       "        text-align: right;\n",
       "    }\n",
       "</style>\n",
       "<table border=\"1\" class=\"dataframe\">\n",
       "  <thead>\n",
       "    <tr style=\"text-align: right;\">\n",
       "      <th></th>\n",
       "      <th>Accident</th>\n",
       "      <th>Belts</th>\n",
       "      <th>Personal Injury</th>\n",
       "      <th>Fatal</th>\n",
       "      <th>Alcohol</th>\n",
       "      <th>Work Zone</th>\n",
       "      <th>Contributed To Accident</th>\n",
       "    </tr>\n",
       "  </thead>\n",
       "  <tbody>\n",
       "    <tr>\n",
       "      <th>Accident</th>\n",
       "      <td>NaN</td>\n",
       "      <td>NaN</td>\n",
       "      <td>NaN</td>\n",
       "      <td>NaN</td>\n",
       "      <td>NaN</td>\n",
       "      <td>NaN</td>\n",
       "      <td>NaN</td>\n",
       "    </tr>\n",
       "    <tr>\n",
       "      <th>Belts</th>\n",
       "      <td>NaN</td>\n",
       "      <td>1.000000</td>\n",
       "      <td>0.105187</td>\n",
       "      <td>0.000819</td>\n",
       "      <td>0.001639</td>\n",
       "      <td>0.002439</td>\n",
       "      <td>0.074504</td>\n",
       "    </tr>\n",
       "    <tr>\n",
       "      <th>Personal Injury</th>\n",
       "      <td>NaN</td>\n",
       "      <td>0.105187</td>\n",
       "      <td>1.000000</td>\n",
       "      <td>-0.001674</td>\n",
       "      <td>0.015309</td>\n",
       "      <td>0.004872</td>\n",
       "      <td>0.344299</td>\n",
       "    </tr>\n",
       "    <tr>\n",
       "      <th>Fatal</th>\n",
       "      <td>NaN</td>\n",
       "      <td>0.000819</td>\n",
       "      <td>-0.001674</td>\n",
       "      <td>1.000000</td>\n",
       "      <td>-0.000605</td>\n",
       "      <td>-0.000216</td>\n",
       "      <td>0.037125</td>\n",
       "    </tr>\n",
       "    <tr>\n",
       "      <th>Alcohol</th>\n",
       "      <td>NaN</td>\n",
       "      <td>0.001639</td>\n",
       "      <td>0.015309</td>\n",
       "      <td>-0.000605</td>\n",
       "      <td>1.000000</td>\n",
       "      <td>-0.000590</td>\n",
       "      <td>0.017778</td>\n",
       "    </tr>\n",
       "    <tr>\n",
       "      <th>Work Zone</th>\n",
       "      <td>NaN</td>\n",
       "      <td>0.002439</td>\n",
       "      <td>0.004872</td>\n",
       "      <td>-0.000216</td>\n",
       "      <td>-0.000590</td>\n",
       "      <td>1.000000</td>\n",
       "      <td>-0.001092</td>\n",
       "    </tr>\n",
       "    <tr>\n",
       "      <th>Contributed To Accident</th>\n",
       "      <td>NaN</td>\n",
       "      <td>0.074504</td>\n",
       "      <td>0.344299</td>\n",
       "      <td>0.037125</td>\n",
       "      <td>0.017778</td>\n",
       "      <td>-0.001092</td>\n",
       "      <td>1.000000</td>\n",
       "    </tr>\n",
       "  </tbody>\n",
       "</table>\n",
       "</div>"
      ],
      "text/plain": [
       "                         Accident     Belts  Personal Injury     Fatal  \\\n",
       "Accident                      NaN       NaN              NaN       NaN   \n",
       "Belts                         NaN  1.000000         0.105187  0.000819   \n",
       "Personal Injury               NaN  0.105187         1.000000 -0.001674   \n",
       "Fatal                         NaN  0.000819        -0.001674  1.000000   \n",
       "Alcohol                       NaN  0.001639         0.015309 -0.000605   \n",
       "Work Zone                     NaN  0.002439         0.004872 -0.000216   \n",
       "Contributed To Accident       NaN  0.074504         0.344299  0.037125   \n",
       "\n",
       "                          Alcohol  Work Zone  Contributed To Accident  \n",
       "Accident                      NaN        NaN                      NaN  \n",
       "Belts                    0.001639   0.002439                 0.074504  \n",
       "Personal Injury          0.015309   0.004872                 0.344299  \n",
       "Fatal                   -0.000605  -0.000216                 0.037125  \n",
       "Alcohol                  1.000000  -0.000590                 0.017778  \n",
       "Work Zone               -0.000590   1.000000                -0.001092  \n",
       "Contributed To Accident  0.017778  -0.001092                 1.000000  "
      ]
     },
     "execution_count": 31,
     "metadata": {},
     "output_type": "execute_result"
    }
   ],
   "source": [
    "traffic_violations['Accident'] = traffic_violations['Accident'].map({'Yes': 1, 'No': 0})\n",
    "traffic_violations['Belts'] = traffic_violations['Belts'].map({'Yes': 1, 'No': 0})\n",
    "traffic_violations['Personal Injury'] = traffic_violations['Personal Injury'].map({'Yes': 1, 'No': 0})\n",
    "traffic_violations['Fatal'] = traffic_violations['Fatal'].map({'Yes': 1, 'No': 0})\n",
    "traffic_violations['Alcohol'] = traffic_violations['Alcohol'].map({'Yes': 1, 'No': 0})\n",
    "traffic_violations['Work Zone'] = traffic_violations['Work Zone'].map({'Yes': 1, 'No': 0})\n",
    "traffic_violations['Contributed To Accident'] = traffic_violations['Contributed To Accident'].map({'Yes': 1, 'No': 0})\n",
    "\n",
    "df_accidents['Astronomical_Twilight'] = df_accidents['Astronomical_Twilight'].map({'Day' : 1, 'Night' : 0})\n",
    "df_accidents['Civil_Twilight'] = df_accidents['Civil_Twilight'].map({'Day' : 1, 'Night' : 0})\n",
    "df_accidents['Nautical_Twilight'] = df_accidents['Nautical_Twilight'].map({'Day' : 1, 'Night' : 0})\n",
    "\n",
    "df_accidents.corr(numeric_only = True)\n",
    "traffic_violations.corr(numeric_only = True)"
   ]
  },
  {
   "cell_type": "code",
   "execution_count": 9,
   "metadata": {},
   "outputs": [
    {
     "data": {
      "image/png": "[encoded data removed]",
      "text/plain": [
       "<Figure size 1000x600 with 1 Axes>"
      ]
     },
     "metadata": {},
     "output_type": "display_data"
    }
   ],
   "source": [
    "import pandas as pd\n",
    "import matplotlib.pyplot as plt\n",
    "# Create a DataFrame\n",
    "df = pd.read_csv('../../../resources/traffic_violations_filtered.csv')\n",
    "\n",
    "\n",
    "# Convert 'Date Of Stop' to datetime\n",
    "df['Date Of Stop'] = pd.to_datetime(df['Date Of Stop'])\n",
    "\n",
    "# Extract year and month from 'Date Of Stop'\n",
    "df['YearMonth'] = df['Date Of Stop'].dt.to_period('M')\n",
    "\n",
    "# Create binary columns for 'Contributed To Accident' and 'Alcohol'\n",
    "df['Contributed To Accident'] = df['Contributed To Accident'].apply(lambda x: 1 if x == 'Yes' else 0)\n",
    "df['Personal Injury'] = df['Personal Injury'].apply(lambda x: 1 if x == 'Yes' else 0)\n",
    "df['Belts'] = df['Belts'].apply(lambda x: 1 if x == 'Yes' else 0)\n",
    "df['Alcohol'] = df['Alcohol'].apply(lambda x: 1 if x == 'Yes' else 0)\n",
    "\n",
    "# Group by YearMonth and sum the violations\n",
    "monthly_data = df.groupby('YearMonth')[['Contributed To Accident', 'Personal Injury', 'Belts', 'Alcohol']].sum()\n",
    "\n",
    "# Plotting the data\n",
    "plt.figure(figsize=(10, 6))\n",
    "plt.plot(monthly_data.index.astype(str), monthly_data['Contributed To Accident'], label='Contributed To Accident')\n",
    "plt.plot(monthly_data.index.astype(str), monthly_data['Personal Injury'], label='Personal Injury')\n",
    "plt.plot(monthly_data.index.astype(str), monthly_data['Belts'], label='Belts')\n",
    "plt.plot(monthly_data.index.astype(str), monthly_data['Alcohol'], label='Alcohol')\n",
    "plt.xlabel('Date (Month)')\n",
    "plt.ylabel('Number of Violations')\n",
    "plt.title('Monthly Violations: Contributed to Accident and Personal Injury')\n",
    "plt.legend()\n",
    "plt.xticks(rotation=45)\n",
    "plt.tight_layout()\n",
    "plt.show()\n"
   ]
  },
  {
   "cell_type": "code",
   "execution_count": 21,
   "metadata": {},
   "outputs": [
    {
     "data": {
      "application/vnd.plotly.v1+json": {
       "config": {
        "plotlyServerURL": "https://plot.ly"
       },
       "data": [
        {
         "hovertemplate": "variable=Contributed To Accident<br>Date (Month)=%{x}<br>Number of Violations=%{y}<extra></extra>",
         "legendgroup": "Contributed To Accident",
         "line": {
          "color": "#636efa",
          "dash": "solid"
         },
         "marker": {
          "symbol": "circle"
         },
         "mode": "lines",
         "name": "Contributed To Accident",
         "orientation": "v",
         "showlegend": true,
         "type": "scatter",
         "x": [
          "2016-01",
          "2016-02",
          "2016-03",
          "2016-04",
          "2016-05",
          "2016-06",
          "2016-07",
          "2016-08",
          "2016-09",
          "2016-10",
          "2016-11",
          "2016-12",
          "2017-01",
          "2017-02",
          "2017-03",
          "2017-04",
          "2017-05",
          "2017-06",
          "2017-07",
          "2017-08",
          "2017-09",
          "2017-10",
          "2017-11",
          "2017-12"
         ],
         "xaxis": "x",
         "y": [
          212,
          176,
          300,
          233,
          310,
          241,
          302,
          288,
          383,
          411,
          232,
          346,
          365,
          251,
          246,
          320,
          336,
          262,
          282,
          70,
          316,
          289,
          260,
          330
         ],
         "yaxis": "y"
        },
        {
         "hovertemplate": "variable=Personal Injury<br>Date (Month)=%{x}<br>Number of Violations=%{y}<extra></extra>",
         "legendgroup": "Personal Injury",
         "line": {
          "color": "#EF553B",
          "dash": "solid"
         },
         "marker": {
          "symbol": "circle"
         },
         "mode": "lines",
         "name": "Personal Injury",
         "orientation": "v",
         "showlegend": true,
         "type": "scatter",
         "x": [
          "2016-01",
          "2016-02",
          "2016-03",
          "2016-04",
          "2016-05",
          "2016-06",
          "2016-07",
          "2016-08",
          "2016-09",
          "2016-10",
          "2016-11",
          "2016-12",
          "2017-01",
          "2017-02",
          "2017-03",
          "2017-04",
          "2017-05",
          "2017-06",
          "2017-07",
          "2017-08",
          "2017-09",
          "2017-10",
          "2017-11",
          "2017-12"
         ],
         "xaxis": "x",
         "y": [
          90,
          82,
          188,
          102,
          126,
          115,
          148,
          104,
          182,
          231,
          123,
          130,
          139,
          94,
          80,
          163,
          157,
          130,
          159,
          29,
          176,
          137,
          118,
          125
         ],
         "yaxis": "y"
        },
        {
         "hovertemplate": "variable=Belts<br>Date (Month)=%{x}<br>Number of Violations=%{y}<extra></extra>",
         "legendgroup": "Belts",
         "line": {
          "color": "#00cc96",
          "dash": "solid"
         },
         "marker": {
          "symbol": "circle"
         },
         "mode": "lines",
         "name": "Belts",
         "orientation": "v",
         "showlegend": true,
         "type": "scatter",
         "x": [
          "2016-01",
          "2016-02",
          "2016-03",
          "2016-04",
          "2016-05",
          "2016-06",
          "2016-07",
          "2016-08",
          "2016-09",
          "2016-10",
          "2016-11",
          "2016-12",
          "2017-01",
          "2017-02",
          "2017-03",
          "2017-04",
          "2017-05",
          "2017-06",
          "2017-07",
          "2017-08",
          "2017-09",
          "2017-10",
          "2017-11",
          "2017-12"
         ],
         "xaxis": "x",
         "y": [
          335,
          413,
          335,
          426,
          465,
          421,
          396,
          338,
          394,
          390,
          331,
          363,
          427,
          317,
          301,
          406,
          358,
          238,
          372,
          46,
          319,
          243,
          243,
          207
         ],
         "yaxis": "y"
        },
        {
         "hovertemplate": "variable=Alcohol<br>Date (Month)=%{x}<br>Number of Violations=%{y}<extra></extra>",
         "legendgroup": "Alcohol",
         "line": {
          "color": "#ab63fa",
          "dash": "solid"
         },
         "marker": {
          "symbol": "circle"
         },
         "mode": "lines",
         "name": "Alcohol",
         "orientation": "v",
         "showlegend": true,
         "type": "scatter",
         "x": [
          "2016-01",
          "2016-02",
          "2016-03",
          "2016-04",
          "2016-05",
          "2016-06",
          "2016-07",
          "2016-08",
          "2016-09",
          "2016-10",
          "2016-11",
          "2016-12",
          "2017-01",
          "2017-02",
          "2017-03",
          "2017-04",
          "2017-05",
          "2017-06",
          "2017-07",
          "2017-08",
          "2017-09",
          "2017-10",
          "2017-11",
          "2017-12"
         ],
         "xaxis": "x",
         "y": [
          6,
          41,
          0,
          4,
          24,
          29,
          19,
          13,
          11,
          29,
          16,
          5,
          5,
          13,
          21,
          0,
          0,
          12,
          1,
          6,
          13,
          0,
          6,
          22
         ],
         "yaxis": "y"
        }
       ],
       "layout": {
        "legend": {
         "title": {
          "text": "variable"
         },
         "tracegroupgap": 0
        },
        "template": {
         "data": {
          "bar": [
           {
            "error_x": {
             "color": "#2a3f5f"
            },
            "error_y": {
             "color": "#2a3f5f"
            },
            "marker": {
             "line": {
              "color": "#E5ECF6",
              "width": 0.5
             },
             "pattern": {
              "fillmode": "overlay",
              "size": 10,
              "solidity": 0.2
             }
            },
            "type": "bar"
           }
          ],
          "barpolar": [
           {
            "marker": {
             "line": {
              "color": "#E5ECF6",
              "width": 0.5
             },
             "pattern": {
              "fillmode": "overlay",
              "size": 10,
              "solidity": 0.2
             }
            },
            "type": "barpolar"
           }
          ],
          "carpet": [
           {
            "aaxis": {
             "endlinecolor": "#2a3f5f",
             "gridcolor": "white",
             "linecolor": "white",
             "minorgridcolor": "white",
             "startlinecolor": "#2a3f5f"
            },
            "baxis": {
             "endlinecolor": "#2a3f5f",
             "gridcolor": "white",
             "linecolor": "white",
             "minorgridcolor": "white",
             "startlinecolor": "#2a3f5f"
            },
            "type": "carpet"
           }
          ],
          "choropleth": [
           {
            "colorbar": {
             "outlinewidth": 0,
             "ticks": ""
            },
            "type": "choropleth"
           }
          ],
          "contour": [
           {
            "colorbar": {
             "outlinewidth": 0,
             "ticks": ""
            },
            "colorscale": [
             [
              0,
              "#0d0887"
             ],
             [
              0.1111111111111111,
              "#46039f"
             ],
             [
              0.2222222222222222,
              "#7201a8"
             ],
             [
              0.3333333333333333,
              "#9c179e"
             ],
             [
              0.4444444444444444,
              "#bd3786"
             ],
             [
              0.5555555555555556,
              "#d8576b"
             ],
             [
              0.6666666666666666,
              "#ed7953"
             ],
             [
              0.7777777777777778,
              "#fb9f3a"
             ],
             [
              0.8888888888888888,
              "#fdca26"
             ],
             [
              1,
              "#f0f921"
             ]
            ],
            "type": "contour"
           }
          ],
          "contourcarpet": [
           {
            "colorbar": {
             "outlinewidth": 0,
             "ticks": ""
            },
            "type": "contourcarpet"
           }
          ],
          "heatmap": [
           {
            "colorbar": {
             "outlinewidth": 0,
             "ticks": ""
            },
            "colorscale": [
             [
              0,
              "#0d0887"
             ],
             [
              0.1111111111111111,
              "#46039f"
             ],
             [
              0.2222222222222222,
              "#7201a8"
             ],
             [
              0.3333333333333333,
              "#9c179e"
             ],
             [
              0.4444444444444444,
              "#bd3786"
             ],
             [
              0.5555555555555556,
              "#d8576b"
             ],
             [
              0.6666666666666666,
              "#ed7953"
             ],
             [
              0.7777777777777778,
              "#fb9f3a"
             ],
             [
              0.8888888888888888,
              "#fdca26"
             ],
             [
              1,
              "#f0f921"
             ]
            ],
            "type": "heatmap"
           }
          ],
          "heatmapgl": [
           {
            "colorbar": {
             "outlinewidth": 0,
             "ticks": ""
            },
            "colorscale": [
             [
              0,
              "#0d0887"
             ],
             [
              0.1111111111111111,
              "#46039f"
             ],
             [
              0.2222222222222222,
              "#7201a8"
             ],
             [
              0.3333333333333333,
              "#9c179e"
             ],
             [
              0.4444444444444444,
              "#bd3786"
             ],
             [
              0.5555555555555556,
              "#d8576b"
             ],
             [
              0.6666666666666666,
              "#ed7953"
             ],
             [
              0.7777777777777778,
              "#fb9f3a"
             ],
             [
              0.8888888888888888,
              "#fdca26"
             ],
             [
              1,
              "#f0f921"
             ]
            ],
            "type": "heatmapgl"
           }
          ],
          "histogram": [
           {
            "marker": {
             "pattern": {
              "fillmode": "overlay",
              "size": 10,
              "solidity": 0.2
             }
            },
            "type": "histogram"
           }
          ],
          "histogram2d": [
           {
            "colorbar": {
             "outlinewidth": 0,
             "ticks": ""
            },
            "colorscale": [
             [
              0,
              "#0d0887"
             ],
             [
              0.1111111111111111,
              "#46039f"
             ],
             [
              0.2222222222222222,
              "#7201a8"
             ],
             [
              0.3333333333333333,
              "#9c179e"
             ],
             [
              0.4444444444444444,
              "#bd3786"
             ],
             [
              0.5555555555555556,
              "#d8576b"
             ],
             [
              0.6666666666666666,
              "#ed7953"
             ],
             [
              0.7777777777777778,
              "#fb9f3a"
             ],
             [
              0.8888888888888888,
              "#fdca26"
             ],
             [
              1,
              "#f0f921"
             ]
            ],
            "type": "histogram2d"
           }
          ],
          "histogram2dcontour": [
           {
            "colorbar": {
             "outlinewidth": 0,
             "ticks": ""
            },
            "colorscale": [
             [
              0,
              "#0d0887"
             ],
             [
              0.1111111111111111,
              "#46039f"
             ],
             [
              0.2222222222222222,
              "#7201a8"
             ],
             [
              0.3333333333333333,
              "#9c179e"
             ],
             [
              0.4444444444444444,
              "#bd3786"
             ],
             [
              0.5555555555555556,
              "#d8576b"
             ],
             [
              0.6666666666666666,
              "#ed7953"
             ],
             [
              0.7777777777777778,
              "#fb9f3a"
             ],
             [
              0.8888888888888888,
              "#fdca26"
             ],
             [
              1,
              "#f0f921"
             ]
            ],
            "type": "histogram2dcontour"
           }
          ],
          "mesh3d": [
           {
            "colorbar": {
             "outlinewidth": 0,
             "ticks": ""
            },
            "type": "mesh3d"
           }
          ],
          "parcoords": [
           {
            "line": {
             "colorbar": {
              "outlinewidth": 0,
              "ticks": ""
             }
            },
            "type": "parcoords"
           }
          ],
          "pie": [
           {
            "automargin": true,
            "type": "pie"
           }
          ],
          "scatter": [
           {
            "fillpattern": {
             "fillmode": "overlay",
             "size": 10,
             "solidity": 0.2
            },
            "type": "scatter"
           }
          ],
          "scatter3d": [
           {
            "line": {
             "colorbar": {
              "outlinewidth": 0,
              "ticks": ""
             }
            },
            "marker": {
             "colorbar": {
              "outlinewidth": 0,
              "ticks": ""
             }
            },
            "type": "scatter3d"
           }
          ],
          "scattercarpet": [
           {
            "marker": {
             "colorbar": {
              "outlinewidth": 0,
              "ticks": ""
             }
            },
            "type": "scattercarpet"
           }
          ],
          "scattergeo": [
           {
            "marker": {
             "colorbar": {
              "outlinewidth": 0,
              "ticks": ""
             }
            },
            "type": "scattergeo"
           }
          ],
          "scattergl": [
           {
            "marker": {
             "colorbar": {
              "outlinewidth": 0,
              "ticks": ""
             }
            },
            "type": "scattergl"
           }
          ],
          "scattermapbox": [
           {
            "marker": {
             "colorbar": {
              "outlinewidth": 0,
              "ticks": ""
             }
            },
            "type": "scattermapbox"
           }
          ],
          "scatterpolar": [
           {
            "marker": {
             "colorbar": {
              "outlinewidth": 0,
              "ticks": ""
             }
            },
            "type": "scatterpolar"
           }
          ],
          "scatterpolargl": [
           {
            "marker": {
             "colorbar": {
              "outlinewidth": 0,
              "ticks": ""
             }
            },
            "type": "scatterpolargl"
           }
          ],
          "scatterternary": [
           {
            "marker": {
             "colorbar": {
              "outlinewidth": 0,
              "ticks": ""
             }
            },
            "type": "scatterternary"
           }
          ],
          "surface": [
           {
            "colorbar": {
             "outlinewidth": 0,
             "ticks": ""
            },
            "colorscale": [
             [
              0,
              "#0d0887"
             ],
             [
              0.1111111111111111,
              "#46039f"
             ],
             [
              0.2222222222222222,
              "#7201a8"
             ],
             [
              0.3333333333333333,
              "#9c179e"
             ],
             [
              0.4444444444444444,
              "#bd3786"
             ],
             [
              0.5555555555555556,
              "#d8576b"
             ],
             [
              0.6666666666666666,
              "#ed7953"
             ],
             [
              0.7777777777777778,
              "#fb9f3a"
             ],
             [
              0.8888888888888888,
              "#fdca26"
             ],
             [
              1,
              "#f0f921"
             ]
            ],
            "type": "surface"
           }
          ],
          "table": [
           {
            "cells": {
             "fill": {
              "color": "#EBF0F8"
             },
             "line": {
              "color": "white"
             }
            },
            "header": {
             "fill": {
              "color": "#C8D4E3"
             },
             "line": {
              "color": "white"
             }
            },
            "type": "table"
           }
          ]
         },
         "layout": {
          "annotationdefaults": {
           "arrowcolor": "#2a3f5f",
           "arrowhead": 0,
           "arrowwidth": 1
          },
          "autotypenumbers": "strict",
          "coloraxis": {
           "colorbar": {
            "outlinewidth": 0,
            "ticks": ""
           }
          },
          "colorscale": {
           "diverging": [
            [
             0,
             "#8e0152"
            ],
            [
             0.1,
             "#c51b7d"
            ],
            [
             0.2,
             "#de77ae"
            ],
            [
             0.3,
             "#f1b6da"
            ],
            [
             0.4,
             "#fde0ef"
            ],
            [
             0.5,
             "#f7f7f7"
            ],
            [
             0.6,
             "#e6f5d0"
            ],
            [
             0.7,
             "#b8e186"
            ],
            [
             0.8,
             "#7fbc41"
            ],
            [
             0.9,
             "#4d9221"
            ],
            [
             1,
             "#276419"
            ]
           ],
           "sequential": [
            [
             0,
             "#0d0887"
            ],
            [
             0.1111111111111111,
             "#46039f"
            ],
            [
             0.2222222222222222,
             "#7201a8"
            ],
            [
             0.3333333333333333,
             "#9c179e"
            ],
            [
             0.4444444444444444,
             "#bd3786"
            ],
            [
             0.5555555555555556,
             "#d8576b"
            ],
            [
             0.6666666666666666,
             "#ed7953"
            ],
            [
             0.7777777777777778,
             "#fb9f3a"
            ],
            [
             0.8888888888888888,
             "#fdca26"
            ],
            [
             1,
             "#f0f921"
            ]
           ],
           "sequentialminus": [
            [
             0,
             "#0d0887"
            ],
            [
             0.1111111111111111,
             "#46039f"
            ],
            [
             0.2222222222222222,
             "#7201a8"
            ],
            [
             0.3333333333333333,
             "#9c179e"
            ],
            [
             0.4444444444444444,
             "#bd3786"
            ],
            [
             0.5555555555555556,
             "#d8576b"
            ],
            [
             0.6666666666666666,
             "#ed7953"
            ],
            [
             0.7777777777777778,
             "#fb9f3a"
            ],
            [
             0.8888888888888888,
             "#fdca26"
            ],
            [
             1,
             "#f0f921"
            ]
           ]
          },
          "colorway": [
           "#636efa",
           "#EF553B",
           "#00cc96",
           "#ab63fa",
           "#FFA15A",
           "#19d3f3",
           "#FF6692",
           "#B6E880",
           "#FF97FF",
           "#FECB52"
          ],
          "font": {
           "color": "#2a3f5f"
          },
          "geo": {
           "bgcolor": "white",
           "lakecolor": "white",
           "landcolor": "#E5ECF6",
           "showlakes": true,
           "showland": true,
           "subunitcolor": "white"
          },
          "hoverlabel": {
           "align": "left"
          },
          "hovermode": "closest",
          "mapbox": {
           "style": "light"
          },
          "paper_bgcolor": "white",
          "plot_bgcolor": "#E5ECF6",
          "polar": {
           "angularaxis": {
            "gridcolor": "white",
            "linecolor": "white",
            "ticks": ""
           },
           "bgcolor": "#E5ECF6",
           "radialaxis": {
            "gridcolor": "white",
            "linecolor": "white",
            "ticks": ""
           }
          },
          "scene": {
           "xaxis": {
            "backgroundcolor": "#E5ECF6",
            "gridcolor": "white",
            "gridwidth": 2,
            "linecolor": "white",
            "showbackground": true,
            "ticks": "",
            "zerolinecolor": "white"
           },
           "yaxis": {
            "backgroundcolor": "#E5ECF6",
            "gridcolor": "white",
            "gridwidth": 2,
            "linecolor": "white",
            "showbackground": true,
            "ticks": "",
            "zerolinecolor": "white"
           },
           "zaxis": {
            "backgroundcolor": "#E5ECF6",
            "gridcolor": "white",
            "gridwidth": 2,
            "linecolor": "white",
            "showbackground": true,
            "ticks": "",
            "zerolinecolor": "white"
           }
          },
          "shapedefaults": {
           "line": {
            "color": "#2a3f5f"
           }
          },
          "ternary": {
           "aaxis": {
            "gridcolor": "white",
            "linecolor": "white",
            "ticks": ""
           },
           "baxis": {
            "gridcolor": "white",
            "linecolor": "white",
            "ticks": ""
           },
           "bgcolor": "#E5ECF6",
           "caxis": {
            "gridcolor": "white",
            "linecolor": "white",
            "ticks": ""
           }
          },
          "title": {
           "x": 0.05
          },
          "xaxis": {
           "automargin": true,
           "gridcolor": "white",
           "linecolor": "white",
           "ticks": "",
           "title": {
            "standoff": 15
           },
           "zerolinecolor": "white",
           "zerolinewidth": 2
          },
          "yaxis": {
           "automargin": true,
           "gridcolor": "white",
           "linecolor": "white",
           "ticks": "",
           "title": {
            "standoff": 15
           },
           "zerolinecolor": "white",
           "zerolinewidth": 2
          }
         }
        },
        "title": {
         "text": "Monthly Violations"
        },
        "xaxis": {
         "anchor": "y",
         "domain": [
          0,
          1
         ],
         "title": {
          "text": "Date (Month)"
         }
        },
        "yaxis": {
         "anchor": "x",
         "domain": [
          0,
          1
         ],
         "title": {
          "text": "Number of Violations"
         }
        }
       }
      }
     },
     "metadata": {},
     "output_type": "display_data"
    }
   ],
   "source": [
    "import pandas as pd\n",
    "import plotly.express as px\n",
    "import plotly.graph_objects as go\n",
    "\n",
    "df = pd.read_csv('../../../resources/traffic_violations_filtered.csv')\n",
    "# Convert 'Date Of Stop' to datetime\n",
    "df['Date Of Stop'] = pd.to_datetime(df['Date Of Stop'])\n",
    "\n",
    "# Extract year and month from 'Date Of Stop'\n",
    "df['YearMonth'] = df['Date Of Stop'].dt.to_period('M')\n",
    "\n",
    "# Create binary columns for 'Contributed To Accident' and 'Alcohol'\n",
    "df['Contributed To Accident'] = df['Contributed To Accident'].apply(lambda x: 1 if x == 'Yes' else 0)\n",
    "df['Personal Injury'] = df['Personal Injury'].apply(lambda x: 1 if x == 'Yes' else 0)\n",
    "df['Belts'] = df['Belts'].apply(lambda x: 1 if x == 'Yes' else 0)\n",
    "df['Alcohol'] = df['Alcohol'].apply(lambda x: 1 if x == 'Yes' else 0)\n",
    "\n",
    "\n",
    "\n",
    "# Group by YearMonth and sum the violations\n",
    "monthly_data = df.groupby('YearMonth')[['Contributed To Accident', 'Personal Injury', 'Belts', 'Alcohol']].sum().reset_index()\n",
    "\n",
    "# Convert 'YearMonth' to string for Plotly\n",
    "monthly_data['YearMonth'] = monthly_data['YearMonth'].astype(str)\n",
    "\n",
    "# Plotting the data\n",
    "fig = px.line(monthly_data, x='YearMonth', y=['Contributed To Accident', 'Personal Injury', 'Belts', 'Alcohol'], \n",
    "              labels={'value':'Number of Violations', 'YearMonth':'Date (Month)'},\n",
    "              title='Monthly Violations')\n",
    "\n",
    "# fig.add_trace(go.Scatter(x=monthly_data['YearMonth'], y=monthly_data['Contributed To Accident'],\n",
    "#                          mode='lines', name='Alcohol',\n",
    "#                          line=dict(color='red', width=4)))  # Highlight\n",
    "\n",
    "fig.show()\n"
   ]
  },
  {
   "cell_type": "code",
   "execution_count": 5,
   "metadata": {},
   "outputs": [],
   "source": [
    "def code(file_path, output):\n",
    "    df = pd.read_csv(file_path)\n",
    "\n",
    "    df['Date Of Stop'] = pd.to_datetime(df['Date Of Stop'], errors='coerce')\n",
    "\n",
    "    new_data = df[df['Date Of Stop'].dt.year.isin([2016, 2017])]\n",
    "\n",
    "    new_data.to_csv(output, index=False)\n",
    "\n",
    "\n",
    "code('../resources/traffic_violations.csv', '../resources/traffic_violations_filtered.csv')"
   ]
  }
 ],
 "metadata": {
  "kernelspec": {
   "display_name": "base",
   "language": "python",
   "name": "python3"
  },
  "language_info": {
   "codemirror_mode": {
    "name": "ipython",
    "version": 3
   },
   "file_extension": ".py",
   "mimetype": "text/x-python",
   "name": "python",
   "nbconvert_exporter": "python",
   "pygments_lexer": "ipython3",
   "version": "3.12.3"
  }
 },
 "nbformat": 4,
 "nbformat_minor": 2
}
