{
 "cells": [
  {
   "cell_type": "code",
   "execution_count": 1,
   "id": "715457ea",
   "metadata": {},
   "outputs": [],
   "source": [
    "import pandas as pd"
   ]
  },
  {
   "cell_type": "code",
   "execution_count": 2,
   "id": "ba31639c",
   "metadata": {},
   "outputs": [],
   "source": [
    "data_sets = ['city_attributes.csv','humidity.csv','pressure.csv','temperature.csv','weather_description.csv','wind_direction.csv','wind_speed.csv']\n",
    "us_accidents_vars = ['Severity', 'Start_Time', 'End_Time', 'Distance(mi)', 'City']\n",
    "us_accidents = pd.read_csv('/Users/nordin/informatie_visualizatie/docs/resources/US_Accidents_March23.csv')\n",
    "humidity = pd.read_csv(f'/Users/nordin/informatie_visualizatie/docs/resources/dataset_weather/{data_sets[1]}')\n",
    "pressure = pd.read_csv(f'/Users/nordin/informatie_visualizatie/docs/resources/dataset_weather/{data_sets[2]}')\n",
    "temperature = pd.read_csv(f'/Users/nordin/informatie_visualizatie/docs/resources/dataset_weather/{data_sets[3]}')\n",
    "weather_description = pd.read_csv(f'/Users/nordin/informatie_visualizatie/docs/resources/dataset_weather/{data_sets[4]}')\n",
    "wind_direction = pd.read_csv(f'/Users/nordin/informatie_visualizatie/docs/resources/dataset_weather/{data_sets[5]}')\n",
    "wind_speed = pd.read_csv(f'/Users/nordin/informatie_visualizatie/docs/resources/dataset_weather/{data_sets[6]}')"
   ]
  },
  {
   "cell_type": "code",
   "execution_count": 3,
   "id": "fe9dc425",
   "metadata": {
    "scrolled": false
   },
   "outputs": [
    {
     "data": {
      "text/html": [
       "<div>\n",
       "<style scoped>\n",
       "    .dataframe tbody tr th:only-of-type {\n",
       "        vertical-align: middle;\n",
       "    }\n",
       "\n",
       "    .dataframe tbody tr th {\n",
       "        vertical-align: top;\n",
       "    }\n",
       "\n",
       "    .dataframe thead th {\n",
       "        text-align: right;\n",
       "    }\n",
       "</style>\n",
       "<table border=\"1\" class=\"dataframe\">\n",
       "  <thead>\n",
       "    <tr style=\"text-align: right;\">\n",
       "      <th></th>\n",
       "      <th>Severity</th>\n",
       "      <th>Start_Time</th>\n",
       "      <th>End_Time</th>\n",
       "      <th>Distance(mi)</th>\n",
       "      <th>City</th>\n",
       "    </tr>\n",
       "  </thead>\n",
       "  <tbody>\n",
       "    <tr>\n",
       "      <th>0</th>\n",
       "      <td>3</td>\n",
       "      <td>2016-02-08 05:46:00</td>\n",
       "      <td>2016-02-08 11:00:00</td>\n",
       "      <td>0.01</td>\n",
       "      <td>Dayton</td>\n",
       "    </tr>\n",
       "    <tr>\n",
       "      <th>1</th>\n",
       "      <td>2</td>\n",
       "      <td>2016-02-08 06:07:59</td>\n",
       "      <td>2016-02-08 06:37:59</td>\n",
       "      <td>0.01</td>\n",
       "      <td>Reynoldsburg</td>\n",
       "    </tr>\n",
       "    <tr>\n",
       "      <th>2</th>\n",
       "      <td>2</td>\n",
       "      <td>2016-02-08 06:49:27</td>\n",
       "      <td>2016-02-08 07:19:27</td>\n",
       "      <td>0.01</td>\n",
       "      <td>Williamsburg</td>\n",
       "    </tr>\n",
       "    <tr>\n",
       "      <th>3</th>\n",
       "      <td>3</td>\n",
       "      <td>2016-02-08 07:23:34</td>\n",
       "      <td>2016-02-08 07:53:34</td>\n",
       "      <td>0.01</td>\n",
       "      <td>Dayton</td>\n",
       "    </tr>\n",
       "    <tr>\n",
       "      <th>4</th>\n",
       "      <td>2</td>\n",
       "      <td>2016-02-08 07:39:07</td>\n",
       "      <td>2016-02-08 08:09:07</td>\n",
       "      <td>0.01</td>\n",
       "      <td>Dayton</td>\n",
       "    </tr>\n",
       "  </tbody>\n",
       "</table>\n",
       "</div>"
      ],
      "text/plain": [
       "   Severity           Start_Time             End_Time  Distance(mi)  \\\n",
       "0         3  2016-02-08 05:46:00  2016-02-08 11:00:00          0.01   \n",
       "1         2  2016-02-08 06:07:59  2016-02-08 06:37:59          0.01   \n",
       "2         2  2016-02-08 06:49:27  2016-02-08 07:19:27          0.01   \n",
       "3         3  2016-02-08 07:23:34  2016-02-08 07:53:34          0.01   \n",
       "4         2  2016-02-08 07:39:07  2016-02-08 08:09:07          0.01   \n",
       "\n",
       "           City  \n",
       "0        Dayton  \n",
       "1  Reynoldsburg  \n",
       "2  Williamsburg  \n",
       "3        Dayton  \n",
       "4        Dayton  "
      ]
     },
     "execution_count": 3,
     "metadata": {},
     "output_type": "execute_result"
    }
   ],
   "source": [
    "us_accidents_filtered = us_accidents[us_accidents_vars]\n",
    "\n",
    "# Save the filtered dataset to a new CSV file\n",
    "us_accidents_filtered.to_csv('/Users/nordin/informatie_visualizatie/docs/resources/US_Accidents_Filtered.csv', index=False)\n",
    "\n",
    "# Display the first few rows of the filtered dataset to verify\n",
    "us_accidents_filtered.head()"
   ]
  },
  {
   "cell_type": "code",
   "execution_count": 4,
   "id": "877f6034",
   "metadata": {},
   "outputs": [
    {
     "name": "stdout",
     "output_type": "stream",
     "text": [
      "              Severity  Distance(mi)\n",
      "Severity      1.000000      0.034787\n",
      "Distance(mi)  0.034787      1.000000\n"
     ]
    }
   ],
   "source": [
    "correlation_matrix = us_accidents_filtered.corr()\n",
    "\n",
    "# Print the correlation matrix\n",
    "print(correlation_matrix)"
   ]
  },
  {
   "cell_type": "code",
   "execution_count": 7,
   "id": "ee2fc078",
   "metadata": {},
   "outputs": [
    {
     "name": "stderr",
     "output_type": "stream",
     "text": [
      "/var/folders/5r/4dlwcpf56d76tctrcxgmk99w0000gn/T/ipykernel_19484/4144758073.py:1: FutureWarning: Dropping of nuisance columns in DataFrame reductions (with 'numeric_only=None') is deprecated; in a future version this will raise TypeError.  Select only valid columns before calling the reduction.\n",
      "  humidity.mean()\n"
     ]
    }
   ],
   "source": [
    "def mean_calc(df):\n",
    "    total_mean = 0\n",
    "    for i in range(1,37):\n",
    "        total_mean += df.iloc[1].mean()\n",
    "    return total_mean/36"
   ]
  },
  {
   "cell_type": "code",
   "execution_count": 17,
   "id": "ee874962",
   "metadata": {},
   "outputs": [
    {
     "name": "stderr",
     "output_type": "stream",
     "text": [
      "/var/folders/5r/4dlwcpf56d76tctrcxgmk99w0000gn/T/ipykernel_19484/20230380.py:1: FutureWarning: Dropping of nuisance columns in DataFrame reductions (with 'numeric_only=None') is deprecated; in a future version this will raise TypeError.  Select only valid columns before calling the reduction.\n",
      "  humidity.mean()\n"
     ]
    },
    {
     "data": {
      "text/plain": [
       "Vancouver            81.895480\n",
       "Portland             74.697616\n",
       "San Francisco        76.875042\n",
       "Seattle              77.159038\n",
       "Los Angeles          62.773841\n",
       "San Diego            67.784809\n",
       "Las Vegas            31.937831\n",
       "Phoenix              37.484424\n",
       "Albuquerque          45.186157\n",
       "Denver               53.022557\n",
       "San Antonio          67.700799\n",
       "Dallas               64.323764\n",
       "Houston              74.065585\n",
       "Kansas City          66.629736\n",
       "Minneapolis          71.244172\n",
       "Saint Louis          70.598763\n",
       "Chicago              74.434918\n",
       "Nashville            68.240344\n",
       "Indianapolis         72.383859\n",
       "Atlanta              70.846758\n",
       "Detroit              72.477574\n",
       "Jacksonville         76.439481\n",
       "Charlotte            70.189190\n",
       "Miami                75.512362\n",
       "Pittsburgh           70.364289\n",
       "Toronto              76.361909\n",
       "Philadelphia         68.017769\n",
       "New York             66.642417\n",
       "Montreal             71.861538\n",
       "Boston               77.375301\n",
       "Beersheba            70.604857\n",
       "Tel Aviv District    66.861509\n",
       "Eilat                53.155184\n",
       "Haifa                79.800383\n",
       "Nahariyya            78.606760\n",
       "Jerusalem            68.732293\n",
       "dtype: float64"
      ]
     },
     "execution_count": 17,
     "metadata": {},
     "output_type": "execute_result"
    }
   ],
   "source": [
    "humidity.mean()"
   ]
  },
  {
   "cell_type": "code",
   "execution_count": null,
   "id": "ba7de933",
   "metadata": {},
   "outputs": [],
   "source": [
    "pd.DataFrame.head(df,n=5)"
   ]
  },
  {
   "cell_type": "code",
   "execution_count": null,
   "id": "967ac3dd",
   "metadata": {},
   "outputs": [],
   "source": []
  },
  {
   "cell_type": "code",
   "execution_count": null,
   "id": "63f4ecd7",
   "metadata": {},
   "outputs": [],
   "source": []
  },
  {
   "cell_type": "code",
   "execution_count": null,
   "id": "54a258d3",
   "metadata": {},
   "outputs": [],
   "source": []
  }
 ],
 "metadata": {
  "kernelspec": {
   "display_name": "Python 3 (ipykernel)",
   "language": "python",
   "name": "python3"
  },
  "language_info": {
   "codemirror_mode": {
    "name": "ipython",
    "version": 3
   },
   "file_extension": ".py",
   "mimetype": "text/x-python",
   "name": "python",
   "nbconvert_exporter": "python",
   "pygments_lexer": "ipython3",
   "version": "3.10.14"
  }
 },
 "nbformat": 4,
 "nbformat_minor": 5
}
