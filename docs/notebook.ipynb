{
 "cells": [
  {
   "cell_type": "markdown",
   "metadata": {},
   "source": [
    "# Example Notebook\n",
    "\n",
    "(Last updated: May 22, 2023)\n",
    "\n",
    "You can also create content with Jupyter Notebooks.\n",
    "This means that you can include code blocks and their outputs in your book.\n",
    "In this notebook, we show some examples of loading and plotting data.\n",
    "Check [this documentation](https://jupyterbook.org/en/stable/content/executable/index.html) about how to write executable content."
   ]
  },
  {
   "cell_type": "code",
   "execution_count": 33,
   "metadata": {},
   "outputs": [],
   "source": [
    "# Import packages\n",
    "import pandas as pd\n",
    "import plotly.express as px\n",
    "import seaborn as sns"
   ]
  },
  {
   "cell_type": "markdown",
   "metadata": {},
   "source": [
    "## Load data\n",
    "\n",
    "You can put your data at the same directory as the notebook file and then use `pandas` to load the data."
   ]
  },
  {
   "cell_type": "code",
   "execution_count": 35,
   "metadata": {},
   "outputs": [],
   "source": [
    "# Load the Iris flower dataset using pandas\n",
    "def description(data_path,list_vars):\n",
    "    df = pd.read_csv(data_path)\n",
    "    for i in list_vars:\n",
    "        avg = df[i].median()\n",
    "        mode = df[i].mode()\n",
    "        print(f\"median_{i}: {avg}, mode_{i}: {mode}\")\n",
    "        print(df[i].describe())\n",
    "        print(df[i].isnull().sum())"
   ]
  },
  {
   "cell_type": "code",
   "execution_count": 36,
   "metadata": {
    "scrolled": true
   },
   "outputs": [
    {
     "name": "stdout",
     "output_type": "stream",
     "text": [
      "median_review_overall: 4.0, mode_review_overall: 0    4.0\n",
      "dtype: float64\n",
      "count    1.586614e+06\n",
      "mean     3.815581e+00\n",
      "std      7.206219e-01\n",
      "min      0.000000e+00\n",
      "25%      3.500000e+00\n",
      "50%      4.000000e+00\n",
      "75%      4.500000e+00\n",
      "max      5.000000e+00\n",
      "Name: review_overall, dtype: float64\n",
      "0\n",
      "median_review_aroma: 4.0, mode_review_aroma: 0    4.0\n",
      "dtype: float64\n",
      "count    1.586614e+06\n",
      "mean     3.735636e+00\n",
      "std      6.976167e-01\n",
      "min      1.000000e+00\n",
      "25%      3.500000e+00\n",
      "50%      4.000000e+00\n",
      "75%      4.000000e+00\n",
      "max      5.000000e+00\n",
      "Name: review_aroma, dtype: float64\n",
      "0\n",
      "median_review_time: 1239202881.5, mode_review_time: 0    1101772800\n",
      "dtype: int64\n",
      "count    1.586614e+06\n",
      "mean     1.224089e+09\n",
      "std      7.654427e+07\n",
      "min      8.406720e+08\n",
      "25%      1.173224e+09\n",
      "50%      1.239203e+09\n",
      "75%      1.288568e+09\n",
      "max      1.326285e+09\n",
      "Name: review_time, dtype: float64\n",
      "0\n",
      "median_beer_abv: 6.5, mode_beer_abv: 0    5.0\n",
      "dtype: float64\n",
      "count    1.518829e+06\n",
      "mean     7.042387e+00\n",
      "std      2.322526e+00\n",
      "min      1.000000e-02\n",
      "25%      5.200000e+00\n",
      "50%      6.500000e+00\n",
      "75%      8.500000e+00\n",
      "max      5.770000e+01\n",
      "Name: beer_abv, dtype: float64\n",
      "67785\n",
      "median_review_palate: 4.0, mode_review_palate: 0    4.0\n",
      "dtype: float64\n",
      "count    1.586614e+06\n",
      "mean     3.743701e+00\n",
      "std      6.822184e-01\n",
      "min      1.000000e+00\n",
      "25%      3.500000e+00\n",
      "50%      4.000000e+00\n",
      "75%      4.000000e+00\n",
      "max      5.000000e+00\n",
      "Name: review_palate, dtype: float64\n",
      "0\n"
     ]
    }
   ],
   "source": [
    "description(\"resources/beer_reviews.csv\",['review_overall', 'review_aroma', 'review_time', 'beer_abv', 'review_palate'])"
   ]
  },
  {
   "cell_type": "code",
   "execution_count": 41,
   "metadata": {
    "scrolled": true
   },
   "outputs": [
    {
     "name": "stdout",
     "output_type": "stream",
     "text": [
      "median_Energy_kcal: 183.0, mode_Energy_kcal: 0    884.0\n",
      "dtype: float64\n",
      "count    9318.000000\n",
      "mean      220.897683\n",
      "std       169.034417\n",
      "min         0.000000\n",
      "25%        86.000000\n",
      "50%       183.000000\n",
      "75%       330.582000\n",
      "max       902.000000\n",
      "Name: Energy_kcal, dtype: float64\n",
      "0\n",
      "median_Fat_g: 4.8, mode_Fat_g: 0    0.0\n",
      "dtype: float64\n",
      "count    9318.000000\n",
      "mean       10.202202\n",
      "std        15.575583\n",
      "min         0.000000\n",
      "25%         0.820000\n",
      "50%         4.800000\n",
      "75%        13.210000\n",
      "max       100.000000\n",
      "Name: Fat_g, dtype: float64\n",
      "0\n",
      "median_Iron_mg: 1.3, mode_Iron_mg: 0    0.0\n",
      "dtype: float64\n",
      "count    9318.000000\n",
      "mean        2.664721\n",
      "std         5.631967\n",
      "min         0.000000\n",
      "25%         0.490000\n",
      "50%         1.300000\n",
      "75%         2.597500\n",
      "max       123.600000\n",
      "Name: Iron_mg, dtype: float64\n",
      "0\n",
      "median_Sugar_g: 0.46, mode_Sugar_g: 0    0.0\n",
      "dtype: float64\n",
      "count    9318.000000\n",
      "mean        6.522893\n",
      "std        13.496676\n",
      "min         0.000000\n",
      "25%         0.000000\n",
      "50%         0.460000\n",
      "75%         5.487500\n",
      "max        99.800000\n",
      "Name: Sugar_g, dtype: float64\n",
      "0\n",
      "median_VitB12_mcg: 0.01, mode_VitB12_mcg: 0    0.0\n",
      "dtype: float64\n",
      "count    9318.000000\n",
      "mean        1.135288\n",
      "std         4.158457\n",
      "min         0.000000\n",
      "25%         0.000000\n",
      "50%         0.010000\n",
      "75%         1.110000\n",
      "max        98.890000\n",
      "Name: VitB12_mcg, dtype: float64\n",
      "0\n"
     ]
    }
   ],
   "source": [
    "description(\"resources/cleaned_ingredients.csv\", ['Energy_kcal', 'Fat_g', 'Iron_mg', 'Sugar_g', 'VitB12_mcg'])"
   ]
  },
  {
   "cell_type": "markdown",
   "metadata": {},
   "source": [
    "## Plot data\n",
    "\n",
    "We set the repository in a way that you can use [Plotly](https://plotly.com/python/) for interactive visualizations.\n",
    "For more information, check [this documentation](https://jupyterbook.org/en/stable/interactive/interactive.html)."
   ]
  },
  {
   "cell_type": "code",
   "execution_count": 14,
   "metadata": {},
   "outputs": [
    {
     "ename": "ValueError",
     "evalue": "Value of 'x' is not the name of a column in 'data_frame'. Expected one of ['brewery_id', 'brewery_name', 'review_time', 'review_overall', 'review_aroma', 'review_appearance', 'review_profilename', 'beer_style', 'review_palate', 'review_taste', 'beer_name', 'beer_abv', 'beer_beerid'] but received: sepal_width",
     "output_type": "error",
     "traceback": [
      "\u001b[0;31m---------------------------------------------------------------------------\u001b[0m",
      "\u001b[0;31mValueError\u001b[0m                                Traceback (most recent call last)",
      "\u001b[0;32m/var/folders/5r/4dlwcpf56d76tctrcxgmk99w0000gn/T/ipykernel_4100/3540202900.py\u001b[0m in \u001b[0;36m<module>\u001b[0;34m\u001b[0m\n\u001b[1;32m      1\u001b[0m \u001b[0;31m# Plot the Iris dataset using Plotly\u001b[0m\u001b[0;34m\u001b[0m\u001b[0;34m\u001b[0m\u001b[0m\n\u001b[0;32m----> 2\u001b[0;31m g1 = px.scatter_3d(df,\n\u001b[0m\u001b[1;32m      3\u001b[0m                    \u001b[0mx\u001b[0m\u001b[0;34m=\u001b[0m\u001b[0;34m\"sepal_width\"\u001b[0m\u001b[0;34m,\u001b[0m\u001b[0;34m\u001b[0m\u001b[0;34m\u001b[0m\u001b[0m\n\u001b[1;32m      4\u001b[0m                    \u001b[0my\u001b[0m\u001b[0;34m=\u001b[0m\u001b[0;34m\"sepal_length\"\u001b[0m\u001b[0;34m,\u001b[0m\u001b[0;34m\u001b[0m\u001b[0;34m\u001b[0m\u001b[0m\n\u001b[1;32m      5\u001b[0m                    \u001b[0mz\u001b[0m\u001b[0;34m=\u001b[0m\u001b[0;34m\"petal_width\"\u001b[0m\u001b[0;34m,\u001b[0m\u001b[0;34m\u001b[0m\u001b[0;34m\u001b[0m\u001b[0m\n",
      "\u001b[0;32m~/opt/anaconda3/lib/python3.9/site-packages/plotly/express/_chart_types.py\u001b[0m in \u001b[0;36mscatter_3d\u001b[0;34m(data_frame, x, y, z, color, symbol, size, text, hover_name, hover_data, custom_data, error_x, error_x_minus, error_y, error_y_minus, error_z, error_z_minus, animation_frame, animation_group, category_orders, labels, size_max, color_discrete_sequence, color_discrete_map, color_continuous_scale, range_color, color_continuous_midpoint, symbol_sequence, symbol_map, opacity, log_x, log_y, log_z, range_x, range_y, range_z, title, template, width, height)\u001b[0m\n\u001b[1;32m    774\u001b[0m     \u001b[0msymbol\u001b[0m \u001b[0mmark\u001b[0m \u001b[0;32min\u001b[0m \u001b[0;36m3\u001b[0m\u001b[0mD\u001b[0m \u001b[0mspace\u001b[0m\u001b[0;34m.\u001b[0m\u001b[0;34m\u001b[0m\u001b[0;34m\u001b[0m\u001b[0m\n\u001b[1;32m    775\u001b[0m     \"\"\"\n\u001b[0;32m--> 776\u001b[0;31m     \u001b[0;32mreturn\u001b[0m \u001b[0mmake_figure\u001b[0m\u001b[0;34m(\u001b[0m\u001b[0margs\u001b[0m\u001b[0;34m=\u001b[0m\u001b[0mlocals\u001b[0m\u001b[0;34m(\u001b[0m\u001b[0;34m)\u001b[0m\u001b[0;34m,\u001b[0m \u001b[0mconstructor\u001b[0m\u001b[0;34m=\u001b[0m\u001b[0mgo\u001b[0m\u001b[0;34m.\u001b[0m\u001b[0mScatter3d\u001b[0m\u001b[0;34m)\u001b[0m\u001b[0;34m\u001b[0m\u001b[0;34m\u001b[0m\u001b[0m\n\u001b[0m\u001b[1;32m    777\u001b[0m \u001b[0;34m\u001b[0m\u001b[0m\n\u001b[1;32m    778\u001b[0m \u001b[0;34m\u001b[0m\u001b[0m\n",
      "\u001b[0;32m~/opt/anaconda3/lib/python3.9/site-packages/plotly/express/_core.py\u001b[0m in \u001b[0;36mmake_figure\u001b[0;34m(args, constructor, trace_patch, layout_patch)\u001b[0m\n\u001b[1;32m   2088\u001b[0m     \u001b[0mapply_default_cascade\u001b[0m\u001b[0;34m(\u001b[0m\u001b[0margs\u001b[0m\u001b[0;34m)\u001b[0m\u001b[0;34m\u001b[0m\u001b[0;34m\u001b[0m\u001b[0m\n\u001b[1;32m   2089\u001b[0m \u001b[0;34m\u001b[0m\u001b[0m\n\u001b[0;32m-> 2090\u001b[0;31m     \u001b[0margs\u001b[0m \u001b[0;34m=\u001b[0m \u001b[0mbuild_dataframe\u001b[0m\u001b[0;34m(\u001b[0m\u001b[0margs\u001b[0m\u001b[0;34m,\u001b[0m \u001b[0mconstructor\u001b[0m\u001b[0;34m)\u001b[0m\u001b[0;34m\u001b[0m\u001b[0;34m\u001b[0m\u001b[0m\n\u001b[0m\u001b[1;32m   2091\u001b[0m     \u001b[0;32mif\u001b[0m \u001b[0mconstructor\u001b[0m \u001b[0;32min\u001b[0m \u001b[0;34m[\u001b[0m\u001b[0mgo\u001b[0m\u001b[0;34m.\u001b[0m\u001b[0mTreemap\u001b[0m\u001b[0;34m,\u001b[0m \u001b[0mgo\u001b[0m\u001b[0;34m.\u001b[0m\u001b[0mSunburst\u001b[0m\u001b[0;34m,\u001b[0m \u001b[0mgo\u001b[0m\u001b[0;34m.\u001b[0m\u001b[0mIcicle\u001b[0m\u001b[0;34m]\u001b[0m \u001b[0;32mand\u001b[0m \u001b[0margs\u001b[0m\u001b[0;34m[\u001b[0m\u001b[0;34m\"path\"\u001b[0m\u001b[0;34m]\u001b[0m \u001b[0;32mis\u001b[0m \u001b[0;32mnot\u001b[0m \u001b[0;32mNone\u001b[0m\u001b[0;34m:\u001b[0m\u001b[0;34m\u001b[0m\u001b[0;34m\u001b[0m\u001b[0m\n\u001b[1;32m   2092\u001b[0m         \u001b[0margs\u001b[0m \u001b[0;34m=\u001b[0m \u001b[0mprocess_dataframe_hierarchy\u001b[0m\u001b[0;34m(\u001b[0m\u001b[0margs\u001b[0m\u001b[0;34m)\u001b[0m\u001b[0;34m\u001b[0m\u001b[0;34m\u001b[0m\u001b[0m\n",
      "\u001b[0;32m~/opt/anaconda3/lib/python3.9/site-packages/plotly/express/_core.py\u001b[0m in \u001b[0;36mbuild_dataframe\u001b[0;34m(args, constructor)\u001b[0m\n\u001b[1;32m   1490\u001b[0m     \u001b[0;31m# now that things have been prepped, we do the systematic rewriting of `args`\u001b[0m\u001b[0;34m\u001b[0m\u001b[0;34m\u001b[0m\u001b[0m\n\u001b[1;32m   1491\u001b[0m \u001b[0;34m\u001b[0m\u001b[0m\n\u001b[0;32m-> 1492\u001b[0;31m     df_output, wide_id_vars = process_args_into_dataframe(\n\u001b[0m\u001b[1;32m   1493\u001b[0m         \u001b[0margs\u001b[0m\u001b[0;34m,\u001b[0m \u001b[0mwide_mode\u001b[0m\u001b[0;34m,\u001b[0m \u001b[0mvar_name\u001b[0m\u001b[0;34m,\u001b[0m \u001b[0mvalue_name\u001b[0m\u001b[0;34m\u001b[0m\u001b[0;34m\u001b[0m\u001b[0m\n\u001b[1;32m   1494\u001b[0m     )\n",
      "\u001b[0;32m~/opt/anaconda3/lib/python3.9/site-packages/plotly/express/_core.py\u001b[0m in \u001b[0;36mprocess_args_into_dataframe\u001b[0;34m(args, wide_mode, var_name, value_name)\u001b[0m\n\u001b[1;32m   1211\u001b[0m                         \u001b[0;32mif\u001b[0m \u001b[0margument\u001b[0m \u001b[0;34m==\u001b[0m \u001b[0;34m\"index\"\u001b[0m\u001b[0;34m:\u001b[0m\u001b[0;34m\u001b[0m\u001b[0;34m\u001b[0m\u001b[0m\n\u001b[1;32m   1212\u001b[0m                             \u001b[0merr_msg\u001b[0m \u001b[0;34m+=\u001b[0m \u001b[0;34m\"\\n To use the index, pass it in directly as `df.index`.\"\u001b[0m\u001b[0;34m\u001b[0m\u001b[0;34m\u001b[0m\u001b[0m\n\u001b[0;32m-> 1213\u001b[0;31m                         \u001b[0;32mraise\u001b[0m \u001b[0mValueError\u001b[0m\u001b[0;34m(\u001b[0m\u001b[0merr_msg\u001b[0m\u001b[0;34m)\u001b[0m\u001b[0;34m\u001b[0m\u001b[0;34m\u001b[0m\u001b[0m\n\u001b[0m\u001b[1;32m   1214\u001b[0m                 \u001b[0;32melif\u001b[0m \u001b[0mlength\u001b[0m \u001b[0;32mand\u001b[0m \u001b[0mlen\u001b[0m\u001b[0;34m(\u001b[0m\u001b[0mdf_input\u001b[0m\u001b[0;34m[\u001b[0m\u001b[0margument\u001b[0m\u001b[0;34m]\u001b[0m\u001b[0;34m)\u001b[0m \u001b[0;34m!=\u001b[0m \u001b[0mlength\u001b[0m\u001b[0;34m:\u001b[0m\u001b[0;34m\u001b[0m\u001b[0;34m\u001b[0m\u001b[0m\n\u001b[1;32m   1215\u001b[0m                     raise ValueError(\n",
      "\u001b[0;31mValueError\u001b[0m: Value of 'x' is not the name of a column in 'data_frame'. Expected one of ['brewery_id', 'brewery_name', 'review_time', 'review_overall', 'review_aroma', 'review_appearance', 'review_profilename', 'beer_style', 'review_palate', 'review_taste', 'beer_name', 'beer_abv', 'beer_beerid'] but received: sepal_width"
     ]
    }
   ],
   "source": [
    "# Plot the Iris dataset using Plotly\n",
    "g1 = px.scatter_3d(df,\n",
    "                   x=\"sepal_width\",\n",
    "                   y=\"sepal_length\",\n",
    "                   z=\"petal_width\",\n",
    "                   color=\"species\",\n",
    "                   size=\"petal_length\",\n",
    "                   opacity=0.6,\n",
    "                   size_max=30,\n",
    "                   height=700)\n",
    "g1"
   ]
  },
  {
   "cell_type": "markdown",
   "metadata": {},
   "source": [
    "You can also plot the data using static visualizations, such as the [seaborn](https://seaborn.pydata.org/#) library."
   ]
  },
  {
   "cell_type": "code",
   "execution_count": 6,
   "metadata": {},
   "outputs": [
    {
     "ename": "NameError",
     "evalue": "name 'sns' is not defined",
     "output_type": "error",
     "traceback": [
      "\u001b[0;31m---------------------------------------------------------------------------\u001b[0m",
      "\u001b[0;31mNameError\u001b[0m                                 Traceback (most recent call last)",
      "\u001b[0;32m/var/folders/5r/4dlwcpf56d76tctrcxgmk99w0000gn/T/ipykernel_4100/118428809.py\u001b[0m in \u001b[0;36m<module>\u001b[0;34m\u001b[0m\n\u001b[1;32m      1\u001b[0m \u001b[0;31m# Plot the Iris dataset using seaborn\u001b[0m\u001b[0;34m\u001b[0m\u001b[0;34m\u001b[0m\u001b[0m\n\u001b[0;32m----> 2\u001b[0;31m g2 = sns.pairplot(df.drop(\"species_id\", axis=1),\n\u001b[0m\u001b[1;32m      3\u001b[0m                   hue='species')\n\u001b[1;32m      4\u001b[0m \u001b[0mg2\u001b[0m\u001b[0;34m\u001b[0m\u001b[0;34m\u001b[0m\u001b[0m\n",
      "\u001b[0;31mNameError\u001b[0m: name 'sns' is not defined"
     ]
    }
   ],
   "source": [
    "# Plot the Iris dataset using seaborn\n",
    "g2 = sns.pairplot(df.drop(\"species_id\", axis=1),\n",
    "                  hue='species')\n",
    "g2"
   ]
  },
  {
   "cell_type": "code",
   "execution_count": null,
   "metadata": {},
   "outputs": [],
   "source": []
  }
 ],
 "metadata": {
  "kernelspec": {
   "display_name": "Python 3 (ipykernel)",
   "language": "python",
   "name": "python3"
  },
  "language_info": {
   "codemirror_mode": {
    "name": "ipython",
    "version": 3
   },
   "file_extension": ".py",
   "mimetype": "text/x-python",
   "name": "python",
   "nbconvert_exporter": "python",
   "pygments_lexer": "ipython3",
   "version": "3.9.7"
  },
  "widgets": {
   "application/vnd.jupyter.widget-state+json": {
    "state": {},
    "version_major": 2,
    "version_minor": 0
   }
  }
 },
 "nbformat": 4,
 "nbformat_minor": 4
}
